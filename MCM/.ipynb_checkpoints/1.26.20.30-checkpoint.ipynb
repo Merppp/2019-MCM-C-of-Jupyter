{
 "cells": [
  {
   "cell_type": "code",
   "execution_count": 44,
   "metadata": {},
   "outputs": [],
   "source": [
    "import numpy as np\n",
    "import pandas as pd\n",
    "import matplotlib.pyplot as plt\n",
    "%matplotlib inline"
   ]
  },
  {
   "cell_type": "markdown",
   "metadata": {},
   "source": [
    "## 最后一列（Total值）"
   ]
  },
  {
   "cell_type": "code",
   "execution_count": 223,
   "metadata": {},
   "outputs": [],
   "source": [
    "date = [2010,2011,2012,2013,2014,2015,2016,2017]\n",
    "ky = [29588,28285,27502,26820,27077,25811,26530,28870]\n",
    "oh = [70999,71282,85415,93747,101423,109150,115276,119349]\n",
    "wv = [8668,9310,9429,9062,6926,5345,5405,3672]\n",
    "va = [41462,28969,32251,47694,32265,27819,33539,36994]\n",
    "pa = [89981,86793,78577,72096,77318,75351,72376,68751]"
   ]
  },
  {
   "cell_type": "code",
   "execution_count": 68,
   "metadata": {},
   "outputs": [
    {
     "name": "stdout",
     "output_type": "stream",
     "text": [
      "ky州的均值 27560.375\n",
      "oh州的均值 95830.125\n",
      "wv州的均值 7227.125\n",
      "va州的均值 35124.125\n",
      "pa州的均值 77655.375\n",
      "----------------------\n",
      "ky州的中位数 27289.5\n",
      "oh州的中位数 97585.0\n",
      "wv州的中位数 7797.0\n",
      "va州的中位数 32902.0\n",
      "pa州的中位数 76334.5\n"
     ]
    }
   ],
   "source": [
    "print(\"ky州的均值\",np.array(ky).mean())\n",
    "print(\"oh州的均值\",np.array(oh).mean())\n",
    "print(\"wv州的均值\",np.array(wv).mean())\n",
    "print(\"va州的均值\",np.array(va).mean())\n",
    "print(\"pa州的均值\",np.array(pa).mean())\n",
    "print(\"----------------------\")\n",
    "print(\"ky州的中位数\",np.median(ky))\n",
    "print(\"oh州的中位数\",np.median(oh))\n",
    "print(\"wv州的中位数\",np.median(wv))\n",
    "print(\"va州的中位数\",np.median(va))\n",
    "print(\"pa州的中位数\",np.median(pa))"
   ]
  },
  {
   "cell_type": "code",
   "execution_count": 222,
   "metadata": {},
   "outputs": [
    {
     "data": {
      "text/plain": [
       "120946.5"
      ]
     },
     "execution_count": 222,
     "metadata": {},
     "output_type": "execute_result"
    }
   ],
   "source": [
    "#110681.5 * i # oh\n",
    "#28431.25 * i # ky\n",
    "#9124 * i     # wv\n",
    "#38111 * i    # va\n",
    "80631 * i    # pa"
   ]
  },
  {
   "cell_type": "code",
   "execution_count": 224,
   "metadata": {},
   "outputs": [
    {
     "data": {
      "image/png": "[encoded data removed]",
      "text/plain": [
       "<Figure size 648x432 with 1 Axes>"
      ]
     },
     "metadata": {},
     "output_type": "display_data"
    }
   ],
   "source": [
    "plt.figure(figsize=(9,6))\n",
    "i = 1.5\n",
    "plt.plot(date, ky,'b')\n",
    "plt.plot(date, oh,'g')\n",
    "plt.plot(date, wv,'r')\n",
    "plt.plot(date, va,'m')\n",
    "plt.plot(date, pa,'y')\n",
    "ky_line = [28431.25 * i] * 8\n",
    "oh_line = [110681.5 * i] * 8\n",
    "wv_line = [9124 * i] * 8\n",
    "va_line = [38111 * i] * 8\n",
    "pa_line = [80631 * i] * 8\n",
    "#plt.scatter(2013.5,28431.25 * i,color = 'b')\n",
    "plt.plot(date, ky_line,'b--')\n",
    "#plt.scatter(2013.5,110681.5 * i)\n",
    "plt.plot(date, oh_line,'g--')\n",
    "#plt.scatter(2013.5,9124 * i)\n",
    "plt.plot(date, wv_line,'r--')\n",
    "#plt.scatter(2013.5,38111 * i)\n",
    "plt.plot(date, va_line,'m--')\n",
    "#plt.scatter(2013.5,80631 * i)\n",
    "plt.plot(date, pa_line,'y--')\n",
    "plt.legend(['KY','OH','WV','VA','PA',],prop={'family':'SimHei','size':11.5},loc='upper left')\n",
    "plt.title('The fitted curve and the hreshold levels of five states ')\n",
    "plt.xlabel('Year')\n",
    "plt.ylabel('TotalDrugReports')\n",
    "plt.savefig('TotalDrugReportsState.jpg')"
   ]
  },
  {
   "cell_type": "code",
   "execution_count": 133,
   "metadata": {},
   "outputs": [
    {
     "name": "stdout",
     "output_type": "stream",
     "text": [
      "32695.937499999996\n",
      "127283.72499999999\n",
      "10492.599999999999\n",
      "43827.649999999994\n",
      "92725.65\n"
     ]
    }
   ],
   "source": [
    "print(28431.25 * i)\n",
    "print(110681.5 * i)\n",
    "print(9124 * i)\n",
    "print(38111 * i)\n",
    "print(80631 * i)"
   ]
  },
  {
   "cell_type": "code",
   "execution_count": 97,
   "metadata": {},
   "outputs": [
    {
     "data": {
      "text/html": [
       "<div>\n",
       "<style scoped>\n",
       "    .dataframe tbody tr th:only-of-type {\n",
       "        vertical-align: middle;\n",
       "    }\n",
       "\n",
       "    .dataframe tbody tr th {\n",
       "        vertical-align: top;\n",
       "    }\n",
       "\n",
       "    .dataframe thead th {\n",
       "        text-align: right;\n",
       "    }\n",
       "</style>\n",
       "<table border=\"1\" class=\"dataframe\">\n",
       "  <thead>\n",
       "    <tr style=\"text-align: right;\">\n",
       "      <th></th>\n",
       "      <th>0</th>\n",
       "    </tr>\n",
       "  </thead>\n",
       "  <tbody>\n",
       "    <tr>\n",
       "      <th>count</th>\n",
       "      <td>8.00000</td>\n",
       "    </tr>\n",
       "    <tr>\n",
       "      <th>mean</th>\n",
       "      <td>27560.37500</td>\n",
       "    </tr>\n",
       "    <tr>\n",
       "      <th>std</th>\n",
       "      <td>1268.21933</td>\n",
       "    </tr>\n",
       "    <tr>\n",
       "      <th>min</th>\n",
       "      <td>25811.00000</td>\n",
       "    </tr>\n",
       "    <tr>\n",
       "      <th>25%</th>\n",
       "      <td>26747.50000</td>\n",
       "    </tr>\n",
       "    <tr>\n",
       "      <th>50%</th>\n",
       "      <td>27289.50000</td>\n",
       "    </tr>\n",
       "    <tr>\n",
       "      <th>75%</th>\n",
       "      <td>28431.25000</td>\n",
       "    </tr>\n",
       "    <tr>\n",
       "      <th>max</th>\n",
       "      <td>29588.00000</td>\n",
       "    </tr>\n",
       "  </tbody>\n",
       "</table>\n",
       "</div>"
      ],
      "text/plain": [
       "                 0\n",
       "count      8.00000\n",
       "mean   27560.37500\n",
       "std     1268.21933\n",
       "min    25811.00000\n",
       "25%    26747.50000\n",
       "50%    27289.50000\n",
       "75%    28431.25000\n",
       "max    29588.00000"
      ]
     },
     "execution_count": 97,
     "metadata": {},
     "output_type": "execute_result"
    }
   ],
   "source": [
    "ky = np.array(ky)\n",
    "ky = pd.DataFrame(ky)\n",
    "ky.describe()"
   ]
  },
  {
   "cell_type": "code",
   "execution_count": 47,
   "metadata": {},
   "outputs": [
    {
     "data": {
      "text/plain": [
       "<matplotlib.legend.Legend at 0x7fadeb5f2d30>"
      ]
     },
     "execution_count": 47,
     "metadata": {},
     "output_type": "execute_result"
    },
    {
     "data": {
      "image/png": "[encoded data removed]",
      "text/plain": [
       "<Figure size 720x576 with 1 Axes>"
      ]
     },
     "metadata": {},
     "output_type": "display_data"
    }
   ],
   "source": [
    "plt.figure(figsize=(10,8))\n",
    "plt.scatter(date, ky)\n",
    "plt.scatter(date, oh)\n",
    "plt.scatter(date, wv)\n",
    "plt.scatter(date, va)\n",
    "plt.scatter(date, pa)\n",
    "plt.legend(['KY','OH','WV','VA','PA'])"
   ]
  }
 ],
 "metadata": {
  "kernelspec": {
   "display_name": "Python 3",
   "language": "python",
   "name": "python3"
  },
  "language_info": {
   "codemirror_mode": {
    "name": "ipython",
    "version": 3
   },
   "file_extension": ".py",
   "mimetype": "text/x-python",
   "name": "python",
   "nbconvert_exporter": "python",
   "pygments_lexer": "ipython3",
   "version": "3.6.5"
  }
 },
 "nbformat": 4,
 "nbformat_minor": 2
}
