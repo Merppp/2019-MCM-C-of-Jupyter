{
 "cells": [
  {
   "cell_type": "code",
   "execution_count": 173,
   "metadata": {},
   "outputs": [],
   "source": [
    "import numpy as np\n",
    "import pandas as pd\n",
    "import matplotlib.pyplot as plt"
   ]
  },
  {
   "cell_type": "code",
   "execution_count": 520,
   "metadata": {},
   "outputs": [],
   "source": [
    "acs_10 = pd.read_csv(\"ACS_10_5YR_DP02/ACS_10_5YR_DP02_with_ann.csv\")\n",
    "acs_11 = pd.read_csv(\"ACS_11_5YR_DP02/ACS_11_5YR_DP02_with_ann.csv\")\n",
    "acs_12 = pd.read_csv(\"ACS_12_5YR_DP02/ACS_12_5YR_DP02_with_ann.csv\")\n",
    "acs_13 = pd.read_csv(\"ACS_13_5YR_DP02/ACS_13_5YR_DP02_with_ann.csv\")\n",
    "acs_14 = pd.read_csv(\"ACS_14_5YR_DP02/ACS_14_5YR_DP02_with_ann.csv\")\n",
    "acs_15 = pd.read_csv(\"ACS_15_5YR_DP02/ACS_15_5YR_DP02_with_ann.csv\")\n",
    "acs_16 = pd.read_csv(\"ACS_16_5YR_DP02/ACS_16_5YR_DP02_with_ann.csv\")\n",
    "acs_10 = acs_10.drop(index=0)\n",
    "acs_11 = acs_11.drop(index=0)\n",
    "acs_12 = acs_12.drop(index=0)\n",
    "acs_13 = acs_13.drop(index=0)\n",
    "acs_14 = acs_14.drop(index=0)\n",
    "acs_15 = acs_15.drop(index=0)\n",
    "acs_16 = acs_16.drop(index=0)"
   ]
  },
  {
   "cell_type": "code",
   "execution_count": 521,
   "metadata": {},
   "outputs": [],
   "source": [
    "ky_10 = acs_10.loc[acs_10['GEO.display-label'].str.contains('Kentucky')]\n",
    "oh_10 = acs_10.loc[acs_10['GEO.display-label'].str.contains('Ohio')]\n",
    "pa_10 = acs_10.loc[acs_10['GEO.display-label'].str.contains('Pennsylvania')]\n",
    "va_10 = acs_10.loc[acs_10['GEO.display-label'].str.contains('Virginia')]\n",
    "wv_10 = acs_10.loc[acs_10['GEO.display-label'].str.contains('West Virginia')]\n",
    "ky_11 = acs_11.loc[acs_11['GEO.display-label'].str.contains('Kentucky')]\n",
    "oh_11 = acs_11.loc[acs_11['GEO.display-label'].str.contains('Ohio')]\n",
    "pa_11 = acs_11.loc[acs_11['GEO.display-label'].str.contains('Pennsylvania')]\n",
    "va_11 = acs_11.loc[acs_11['GEO.display-label'].str.contains('Virginia')]\n",
    "wv_11 = acs_11.loc[acs_11['GEO.display-label'].str.contains('West Virginia')]\n",
    "ky_12 = acs_12.loc[acs_12['GEO.display-label'].str.contains('Kentucky')]\n",
    "oh_12 = acs_12.loc[acs_12['GEO.display-label'].str.contains('Ohio')]\n",
    "pa_12 = acs_12.loc[acs_12['GEO.display-label'].str.contains('Pennsylvania')]\n",
    "va_12 = acs_12.loc[acs_12['GEO.display-label'].str.contains('Virginia')]\n",
    "wv_12 = acs_12.loc[acs_12['GEO.display-label'].str.contains('West Virginia')]\n",
    "ky_13 = acs_13.loc[acs_13['GEO.display-label'].str.contains('Kentucky')]\n",
    "oh_13 = acs_13.loc[acs_13['GEO.display-label'].str.contains('Ohio')]\n",
    "pa_13 = acs_13.loc[acs_13['GEO.display-label'].str.contains('Pennsylvania')]\n",
    "va_13 = acs_13.loc[acs_13['GEO.display-label'].str.contains('Virginia')]\n",
    "wv_13 = acs_13.loc[acs_13['GEO.display-label'].str.contains('West Virginia')]\n",
    "ky_14 = acs_14.loc[acs_14['GEO.display-label'].str.contains('Kentucky')]\n",
    "oh_14 = acs_14.loc[acs_14['GEO.display-label'].str.contains('Ohio')]\n",
    "pa_14 = acs_14.loc[acs_14['GEO.display-label'].str.contains('Pennsylvania')]\n",
    "va_14 = acs_14.loc[acs_14['GEO.display-label'].str.contains('Virginia')]\n",
    "wv_14 = acs_14.loc[acs_14['GEO.display-label'].str.contains('West Virginia')]\n",
    "ky_15 = acs_15.loc[acs_15['GEO.display-label'].str.contains('Kentucky')]\n",
    "oh_15 = acs_15.loc[acs_15['GEO.display-label'].str.contains('Ohio')]\n",
    "pa_15 = acs_15.loc[acs_15['GEO.display-label'].str.contains('Pennsylvania')]\n",
    "va_15 = acs_15.loc[acs_15['GEO.display-label'].str.contains('Virginia')]\n",
    "wv_15 = acs_15.loc[acs_15['GEO.display-label'].str.contains('West Virginia')]\n",
    "ky_16 = acs_16.loc[acs_16['GEO.display-label'].str.contains('Kentucky')]\n",
    "oh_16 = acs_16.loc[acs_16['GEO.display-label'].str.contains('Ohio')]\n",
    "pa_16 = acs_16.loc[acs_16['GEO.display-label'].str.contains('Pennsylvania')]\n",
    "va_16 = acs_16.loc[acs_16['GEO.display-label'].str.contains('Virginia')]\n",
    "wv_16 = acs_16.loc[acs_16['GEO.display-label'].str.contains('West Virginia')]"
   ]
  },
  {
   "cell_type": "code",
   "execution_count": 522,
   "metadata": {},
   "outputs": [],
   "source": [
    "ky_dict = [ky_10,ky_11,ky_12,ky_13,ky_14,ky_15,ky_16]\n",
    "oh_dict = [oh_10,oh_11,oh_12,oh_13,oh_14,oh_15,oh_16]\n",
    "pa_dict = [pa_10,pa_11,pa_12,pa_13,pa_14,pa_15,pa_16]\n",
    "va_dict = [va_10,va_11,va_12,va_13,va_14,va_15,va_16]\n",
    "wv_dict = [wv_10,wv_11,wv_12,wv_13,wv_14,wv_15,wv_16]"
   ]
  },
  {
   "cell_type": "markdown",
   "metadata": {},
   "source": [
    "----"
   ]
  },
  {
   "cell_type": "markdown",
   "metadata": {},
   "source": [
    "## Estimate; EDUCATIONAL ATTAINMENT - Less than 9th grade"
   ]
  },
  {
   "cell_type": "markdown",
   "metadata": {},
   "source": [
    "估计; 教育程度 - 不到9年级"
   ]
  },
  {
   "cell_type": "code",
   "execution_count": 548,
   "metadata": {},
   "outputs": [],
   "source": [
    "code = 'HC01_VC85'\n",
    "code2 = 'HC01_VC86'\n",
    "ky_alone = [0.,0.,0.,0.,0.,0.,0.]\n",
    "oh_alone = [0.,0.,0.,0.,0.,0.,0.]\n",
    "pa_alone = [0.,0.,0.,0.,0.,0.,0.]\n",
    "va_alone = [0.,0.,0.,0.,0.,0.,0.]\n",
    "wv_alone = [0.,0.,0.,0.,0.,0.,0.]"
   ]
  },
  {
   "cell_type": "code",
   "execution_count": 549,
   "metadata": {},
   "outputs": [],
   "source": [
    "for i in range(7):\n",
    "    if i < 3:\n",
    "        ky = ky_dict[i][code]\n",
    "        ky_alone[i] = ky.values.astype('float32').mean()\n",
    "    \n",
    "        oh = oh_dict[i][code]\n",
    "        oh_alone[i] = oh.values.astype('float32').mean()\n",
    "    \n",
    "        pa = pa_dict[i][code]\n",
    "        pa_alone[i] = pa.values.astype('float32').mean()\n",
    "        \n",
    "        va = va_dict[i][code]\n",
    "        va_alone[i] = va.values.astype('float32').mean()\n",
    "    \n",
    "        wv = wv_dict[i][code]\n",
    "        wv_alone[i] = wv.values.astype('float32').mean()\n",
    "    else:\n",
    "        ky = ky_dict[i][code2]\n",
    "        ky_alone[i] = ky.values.astype('float32').mean()\n",
    "    \n",
    "        oh = oh_dict[i][code2]\n",
    "        oh_alone[i] = oh.values.astype('float32').mean()\n",
    "    \n",
    "        pa = pa_dict[i][code2]\n",
    "        pa_alone[i] = pa.values.astype('float32').mean()\n",
    "        \n",
    "        va = va_dict[i][code2]\n",
    "        va_alone[i] = va.values.astype('float32').mean()\n",
    "    \n",
    "        wv = wv_dict[i][code2]\n",
    "        wv_alone[i] = wv.values.astype('float32').mean()"
   ]
  },
  {
   "cell_type": "code",
   "execution_count": 550,
   "metadata": {},
   "outputs": [
    {
     "data": {
      "text/plain": [
       "<matplotlib.legend.Legend at 0x7f6942696b00>"
      ]
     },
     "execution_count": 550,
     "metadata": {},
     "output_type": "execute_result"
    },
    {
     "data": {
      "image/png": "[encoded data removed]",
      "text/plain": [
       "<Figure size 720x432 with 1 Axes>"
      ]
     },
     "metadata": {},
     "output_type": "display_data"
    }
   ],
   "source": [
    "date = [2010,2011,2012,2013,2014,2015,2016]\n",
    "plt.figure(figsize=(10,6))\n",
    "plt.plot(date,ky_alone)\n",
    "plt.plot(date,oh_alone)\n",
    "plt.plot(date,pa_alone)\n",
    "plt.plot(date,va_alone)\n",
    "plt.plot(date,wv_alone)\n",
    "plt.legend(['KY','OH','PA','VA','WV'])"
   ]
  },
  {
   "cell_type": "code",
   "execution_count": 551,
   "metadata": {},
   "outputs": [
    {
     "data": {
      "text/plain": [
       "[2931.9111, 2907.3333, 2851.8223, 2814.6445, 2751.4556, 2704.2, 2614.3223]"
      ]
     },
     "execution_count": 551,
     "metadata": {},
     "output_type": "execute_result"
    }
   ],
   "source": [
    "oh_alone"
   ]
  },
  {
   "cell_type": "markdown",
   "metadata": {},
   "source": [
    "## Percent; HOUSEHOLDS BY TYPE - Total households - Family households (families) - Married-couple family"
   ]
  },
  {
   "cell_type": "markdown",
   "metadata": {},
   "source": [
    "百分比;按类别-总家庭-家庭住户(家庭)-已婚家庭"
   ]
  },
  {
   "cell_type": "code",
   "execution_count": 370,
   "metadata": {},
   "outputs": [],
   "source": [
    "code = 'HC03_VC07'\n",
    "code2 = 'HC03_VC06'\n",
    "ky_married = [0.,0.,0.,0.,0.,0.,0.]\n",
    "oh_married = [0.,0.,0.,0.,0.,0.,0.]\n",
    "pa_married = [0.,0.,0.,0.,0.,0.,0.]\n",
    "va_married = [0.,0.,0.,0.,0.,0.,0.]\n",
    "wv_married = [0.,0.,0.,0.,0.,0.,0.]"
   ]
  },
  {
   "cell_type": "code",
   "execution_count": 371,
   "metadata": {},
   "outputs": [],
   "source": [
    "for i in range(7):\n",
    "    if i< 3:\n",
    "        ky = ky_dict[i][code]\n",
    "        ky_married[i] = ky.values.astype('float32').mean()\n",
    "    \n",
    "        oh = oh_dict[i][code]\n",
    "        oh_married[i] = oh.values.astype('float32').mean()\n",
    "    \n",
    "        pa = pa_dict[i][code]\n",
    "        pa_married[i] = pa.values.astype('float32').mean()\n",
    "    \n",
    "        va = va_dict[i][code]\n",
    "        va_married[i] = va.values.astype('float32').mean()\n",
    "    \n",
    "        wv = wv_dict[i][code]\n",
    "        wv_married[i] = wv.values.astype('float32').mean()\n",
    "    elif i >= 3:\n",
    "        ky = ky_dict[i][code2]\n",
    "        ky_married[i] = ky.values.astype('float32').mean()\n",
    "    \n",
    "        oh = oh_dict[i][code2]\n",
    "        oh_married[i] = oh.values.astype('float32').mean()\n",
    "    \n",
    "        pa = pa_dict[i][code2]\n",
    "        pa_married[i] = pa.values.astype('float32').mean()\n",
    "    \n",
    "        va = va_dict[i][code2]\n",
    "        va_married[i] = va.values.astype('float32').mean()\n",
    "    \n",
    "        wv = wv_dict[i][code2]\n",
    "        wv_married[i] = wv.values.astype('float32').mean()"
   ]
  },
  {
   "cell_type": "code",
   "execution_count": 372,
   "metadata": {},
   "outputs": [
    {
     "data": {
      "text/plain": [
       "<matplotlib.legend.Legend at 0x7f695f55b438>"
      ]
     },
     "execution_count": 372,
     "metadata": {},
     "output_type": "execute_result"
    },
    {
     "data": {
      "image/png": "[encoded data removed]",
      "text/plain": [
       "<Figure size 720x432 with 1 Axes>"
      ]
     },
     "metadata": {},
     "output_type": "display_data"
    }
   ],
   "source": [
    "date = [2010,2011,2012,2013,2014,2015,2016]\n",
    "plt.figure(figsize=(10,6))\n",
    "plt.plot(date,ky_married)\n",
    "plt.plot(date,oh_married)\n",
    "plt.plot(date,pa_married)\n",
    "plt.plot(date,va_married)\n",
    "plt.plot(date,wv_married)\n",
    "plt.legend(['KY','OH','PA','VA','WV'])"
   ]
  },
  {
   "cell_type": "markdown",
   "metadata": {},
   "source": [
    "## Estimate; MARITAL STATUS - Males 15 years and over - Divorced"
   ]
  },
  {
   "cell_type": "markdown",
   "metadata": {},
   "source": [
    "估计;婚姻状况-男性15岁以上-离婚"
   ]
  },
  {
   "cell_type": "code",
   "execution_count": 513,
   "metadata": {},
   "outputs": [],
   "source": [
    "code = 'HC01_VC35'\n",
    "code2 = 'HC01_VC36'\n",
    "ky_Divorced = [0.,0.,0.,0.,0.,0.,0.]\n",
    "oh_Divorced = [0.,0.,0.,0.,0.,0.,0.]\n",
    "pa_Divorced = [0.,0.,0.,0.,0.,0.,0.]\n",
    "va_Divorced = [0.,0.,0.,0.,0.,0.,0.]\n",
    "wv_Divorced = [0.,0.,0.,0.,0.,0.,0.]"
   ]
  },
  {
   "cell_type": "code",
   "execution_count": 514,
   "metadata": {},
   "outputs": [],
   "source": [
    "for i in range(7):\n",
    "    if i < 3:\n",
    "        ky = ky_dict[i][code]\n",
    "        ky_Divorced[i] = ky.values.astype('float32').mean()\n",
    "    \n",
    "        oh = oh_dict[i][code]\n",
    "        oh_Divorced[i] = oh.values.astype('float32').mean()\n",
    "    \n",
    "        pa = pa_dict[i][code]\n",
    "        pa_Divorced[i] = pa.values.astype('float32').mean()\n",
    "    \n",
    "        va = va_dict[i][code]\n",
    "        va_Divorced[i] = va.values.astype('float32').mean()\n",
    "    \n",
    "        wv = wv_dict[i][code]\n",
    "        wv_Divorced[i] = wv.values.astype('float32').mean()\n",
    "    else:\n",
    "        ky = ky_dict[i][code2]\n",
    "        ky_Divorced[i] = ky.values.astype('float32').mean()\n",
    "    \n",
    "        oh = oh_dict[i][code2]\n",
    "        oh_Divorced[i] = oh.values.astype('float32').mean()\n",
    "    \n",
    "        pa = pa_dict[i][code2]\n",
    "        pa_Divorced[i] = pa.values.astype('float32').mean()\n",
    "    \n",
    "        va = va_dict[i][code2]\n",
    "        va_Divorced[i] = va.values.astype('float32').mean()\n",
    "    \n",
    "        wv = wv_dict[i][code2]\n",
    "        wv_Divorced[i] = wv.values.astype('float32').mean()"
   ]
  },
  {
   "cell_type": "code",
   "execution_count": 515,
   "metadata": {},
   "outputs": [
    {
     "data": {
      "text/plain": [
       "<matplotlib.legend.Legend at 0x7f69601b2a58>"
      ]
     },
     "execution_count": 515,
     "metadata": {},
     "output_type": "execute_result"
    },
    {
     "data": {
      "image/png": "[encoded data removed]",
      "text/plain": [
       "<Figure size 720x432 with 1 Axes>"
      ]
     },
     "metadata": {},
     "output_type": "display_data"
    }
   ],
   "source": [
    "date = [2010,2011,2012,2013,2014,2015,2016]\n",
    "plt.figure(figsize=(10,6))\n",
    "plt.plot(date,ky_Divorced)\n",
    "plt.plot(date,oh_Divorced)\n",
    "plt.plot(date,pa_Divorced)\n",
    "plt.plot(date,va_Divorced)\n",
    "plt.plot(date,wv_Divorced)\n",
    "plt.legend(['KY','OH','PA','VA','WV'])"
   ]
  },
  {
   "cell_type": "code",
   "execution_count": 516,
   "metadata": {},
   "outputs": [
    {
     "data": {
      "text/plain": [
       "[49843.055, 50020.71, 50181.977, 50387.277, 50574.812, 50784.043, 50982.21]"
      ]
     },
     "execution_count": 516,
     "metadata": {},
     "output_type": "execute_result"
    }
   ],
   "source": [
    "oh_Divorced"
   ]
  },
  {
   "cell_type": "markdown",
   "metadata": {},
   "source": [
    "## Estimate; GRANDPARENTS - Responsible for grandchildren - Years responsible for grandchildren - 5 or more years"
   ]
  },
  {
   "cell_type": "markdown",
   "metadata": {},
   "source": [
    "估计;祖父母-负责孙子-年负责孙子- 5年或以上"
   ]
  },
  {
   "cell_type": "code",
   "execution_count": 552,
   "metadata": {},
   "outputs": [],
   "source": [
    "code = 'HC01_VC67'\n",
    "code2 = 'HC01_VC68'\n",
    "ky_grandchildren = [0.,0.,0.,0.,0.,0.,0.]\n",
    "oh_grandchildren = [0.,0.,0.,0.,0.,0.,0.]\n",
    "pa_grandchildren = [0.,0.,0.,0.,0.,0.,0.]\n",
    "va_grandchildren = [0.,0.,0.,0.,0.,0.,0.]\n",
    "wv_grandchildren = [0.,0.,0.,0.,0.,0.,0.]"
   ]
  },
  {
   "cell_type": "code",
   "execution_count": 553,
   "metadata": {},
   "outputs": [],
   "source": [
    "for i in range(7):\n",
    "    if i < 3:\n",
    "        ky = ky_dict[i][code]\n",
    "        ky_grandchildren[i] = ky.values.astype('float32').mean()\n",
    "    \n",
    "        oh = oh_dict[i][code]\n",
    "        oh_grandchildren[i] = oh.values.astype('float32').mean()\n",
    "    \n",
    "        pa = pa_dict[i][code]\n",
    "        pa_grandchildren[i] = pa.values.astype('float32').mean()\n",
    "    \n",
    "        va = va_dict[i][code]\n",
    "        va_grandchildren[i] = va.values.astype('float32').mean()\n",
    "    \n",
    "        wv = wv_dict[i][code]\n",
    "        wv_grandchildren[i] = wv.values.astype('float32').mean()\n",
    "    else:\n",
    "        ky = ky_dict[i][code2]\n",
    "        ky_grandchildren[i] = ky.values.astype('float32').mean()\n",
    "    \n",
    "        oh = oh_dict[i][code2]\n",
    "        oh_grandchildren[i] = oh.values.astype('float32').mean()\n",
    "    \n",
    "        pa = pa_dict[i][code2]\n",
    "        pa_grandchildren[i] = pa.values.astype('float32').mean()\n",
    "    \n",
    "        va = va_dict[i][code2]\n",
    "        va_grandchildren[i] = va.values.astype('float32').mean()\n",
    "    \n",
    "        wv = wv_dict[i][code2]\n",
    "        wv_grandchildren[i] = wv.values.astype('float32').mean()"
   ]
  },
  {
   "cell_type": "code",
   "execution_count": 554,
   "metadata": {},
   "outputs": [
    {
     "data": {
      "text/plain": [
       "<matplotlib.legend.Legend at 0x7f6942629550>"
      ]
     },
     "execution_count": 554,
     "metadata": {},
     "output_type": "execute_result"
    },
    {
     "data": {
      "image/png": "[encoded data removed]",
      "text/plain": [
       "<Figure size 720x432 with 1 Axes>"
      ]
     },
     "metadata": {},
     "output_type": "display_data"
    }
   ],
   "source": [
    "date = [2010,2011,2012,2013,2014,2015,2016]\n",
    "plt.figure(figsize=(10,6))\n",
    "plt.plot(date,ky_grandchildren)\n",
    "plt.plot(date,oh_grandchildren)\n",
    "plt.plot(date,pa_grandchildren)\n",
    "plt.plot(date,va_grandchildren)\n",
    "plt.plot(date,wv_grandchildren)\n",
    "plt.legend(['KY','OH','PA','VA','WV'])"
   ]
  },
  {
   "cell_type": "code",
   "execution_count": 555,
   "metadata": {},
   "outputs": [
    {
     "data": {
      "text/plain": [
       "[385.17776, 385.4889, 390.0111, 408.06668, 428.93332, 442.24445, 442.23334]"
      ]
     },
     "execution_count": 555,
     "metadata": {},
     "output_type": "execute_result"
    }
   ],
   "source": [
    "oh_grandchildren"
   ]
  },
  {
   "cell_type": "markdown",
   "metadata": {},
   "source": [
    "## Estimate; ANCESTRY - Subsaharan African"
   ]
  },
  {
   "cell_type": "markdown",
   "metadata": {},
   "source": [
    "估计;祖先-撒哈拉以南非洲人"
   ]
  },
  {
   "cell_type": "code",
   "execution_count": 556,
   "metadata": {},
   "outputs": [],
   "source": [
    "code = 'HC01_VC204'\n",
    "code2 = 'HC01_VC207'\n",
    "ky_Africa = [0.,0.,0.,0.,0.,0.,0.]\n",
    "oh_Africa = [0.,0.,0.,0.,0.,0.,0.]\n",
    "pa_Africa = [0.,0.,0.,0.,0.,0.,0.]\n",
    "va_Africa = [0.,0.,0.,0.,0.,0.,0.]\n",
    "wv_Africa = [0.,0.,0.,0.,0.,0.,0.]"
   ]
  },
  {
   "cell_type": "code",
   "execution_count": 557,
   "metadata": {},
   "outputs": [],
   "source": [
    "for i in range(7):\n",
    "    if i < 3:\n",
    "        ky = ky_dict[i][code]\n",
    "        ky_Africa[i] = ky.values.astype('float32').mean()\n",
    "    \n",
    "        oh = oh_dict[i][code]\n",
    "        oh_Africa[i] = oh.values.astype('float32').mean()\n",
    "    \n",
    "        pa = pa_dict[i][code]\n",
    "        pa_Africa[i] = pa.values.astype('float32').mean()\n",
    "    \n",
    "        va = va_dict[i][code]\n",
    "        va_Africa[i] = va.values.astype('float32').mean()\n",
    "    \n",
    "        wv = wv_dict[i][code]\n",
    "        wv_Africa[i] = wv.values.astype('float32').mean()\n",
    "    else:\n",
    "        ky = ky_dict[i][code2]\n",
    "        ky_Africa[i] = ky.values.astype('float32').mean()\n",
    "    \n",
    "        oh = oh_dict[i][code2]\n",
    "        oh_Africa[i] = oh.values.astype('float32').mean()\n",
    "    \n",
    "        pa = pa_dict[i][code2]\n",
    "        pa_Africa[i] = pa.values.astype('float32').mean()\n",
    "    \n",
    "        va = va_dict[i][code2]\n",
    "        va_Africa[i] = va.values.astype('float32').mean()\n",
    "    \n",
    "        wv = wv_dict[i][code2]\n",
    "        wv_Africa[i] = wv.values.astype('float32').mean()"
   ]
  },
  {
   "cell_type": "code",
   "execution_count": 558,
   "metadata": {},
   "outputs": [
    {
     "data": {
      "text/plain": [
       "<matplotlib.legend.Legend at 0x7f69425b3f60>"
      ]
     },
     "execution_count": 558,
     "metadata": {},
     "output_type": "execute_result"
    },
    {
     "data": {
      "image/png": "[encoded data removed]",
      "text/plain": [
       "<Figure size 720x432 with 1 Axes>"
      ]
     },
     "metadata": {},
     "output_type": "display_data"
    }
   ],
   "source": [
    "date = [2010,2011,2012,2013,2014,2015,2016]\n",
    "plt.figure(figsize=(10,6))\n",
    "plt.plot(date,ky_Africa)\n",
    "plt.plot(date,oh_Africa)\n",
    "plt.plot(date,pa_Africa)\n",
    "plt.plot(date,va_Africa)\n",
    "plt.plot(date,wv_Africa)\n",
    "plt.legend(['KY','OH','PA','VA','WV'])"
   ]
  },
  {
   "cell_type": "code",
   "execution_count": 559,
   "metadata": {},
   "outputs": [
    {
     "data": {
      "text/plain": [
       "[1090.1444, 1184.6, 1220.9222, 1187.9111, 1170.1555, 1206.3556, 1195.8112]"
      ]
     },
     "execution_count": 559,
     "metadata": {},
     "output_type": "execute_result"
    }
   ],
   "source": [
    "oh_Africa"
   ]
  },
  {
   "cell_type": "markdown",
   "metadata": {},
   "source": [
    "## Percent; ANCESTRY - Italian"
   ]
  },
  {
   "cell_type": "markdown",
   "metadata": {},
   "source": [
    "百分比;祖先——意大利"
   ]
  },
  {
   "cell_type": "code",
   "execution_count": 212,
   "metadata": {},
   "outputs": [],
   "source": [
    "code = 'HC03_VC195'\n",
    "code2 = 'HC03_VC198'\n",
    "ky_Italian = [0.,0.,0.,0.,0.,0.,0.]\n",
    "oh_Italian = [0.,0.,0.,0.,0.,0.,0.]\n",
    "pa_Italian = [0.,0.,0.,0.,0.,0.,0.]\n",
    "va_Italian = [0.,0.,0.,0.,0.,0.,0.]\n",
    "wv_Italian = [0.,0.,0.,0.,0.,0.,0.]"
   ]
  },
  {
   "cell_type": "code",
   "execution_count": 213,
   "metadata": {},
   "outputs": [],
   "source": [
    "for i in range(7):\n",
    "    if i < 3:\n",
    "        ky = ky_dict[i][code]\n",
    "        ky_Italian[i] = ky.values.astype('float32').mean()\n",
    "    \n",
    "        oh = oh_dict[i][code]\n",
    "        oh_Italian[i] = oh.values.astype('float32').mean()\n",
    "    \n",
    "        pa = pa_dict[i][code]\n",
    "        pa_Italian[i] = pa.values.astype('float32').mean()\n",
    "    \n",
    "        va = va_dict[i][code]\n",
    "        va_Italian[i] = va.values.astype('float32').mean()\n",
    "    \n",
    "        wv = wv_dict[i][code]\n",
    "        wv_Italian[i] = wv.values.astype('float32').mean()\n",
    "    else:\n",
    "        ky = ky_dict[i][code2]\n",
    "        ky_Italian[i] = ky.values.astype('float32').mean()\n",
    "    \n",
    "        oh = oh_dict[i][code2]\n",
    "        oh_Italian[i] = oh.values.astype('float32').mean()\n",
    "    \n",
    "        pa = pa_dict[i][code2]\n",
    "        pa_Italian[i] = pa.values.astype('float32').mean()\n",
    "    \n",
    "        va = va_dict[i][code2]\n",
    "        va_Italian[i] = va.values.astype('float32').mean()\n",
    "    \n",
    "        wv = wv_dict[i][code2]\n",
    "        wv_Italian[i] = wv.values.astype('float32').mean()"
   ]
  },
  {
   "cell_type": "code",
   "execution_count": 214,
   "metadata": {},
   "outputs": [
    {
     "data": {
      "text/plain": [
       "<matplotlib.legend.Legend at 0x7f695c5de198>"
      ]
     },
     "execution_count": 214,
     "metadata": {},
     "output_type": "execute_result"
    },
    {
     "data": {
      "image/png": "[encoded data removed]",
      "text/plain": [
       "<Figure size 720x432 with 1 Axes>"
      ]
     },
     "metadata": {},
     "output_type": "display_data"
    }
   ],
   "source": [
    "date = [2010,2011,2012,2013,2014,2015,2016]\n",
    "plt.figure(figsize=(10,6))\n",
    "plt.plot(date,ky_Italian)\n",
    "plt.plot(date,oh_Italian)\n",
    "plt.plot(date,pa_Italian)\n",
    "plt.plot(date,va_Italian)\n",
    "plt.plot(date,wv_Italian)\n",
    "plt.legend(['KY','OH','PA','VA','WV'])"
   ]
  },
  {
   "cell_type": "markdown",
   "metadata": {},
   "source": [
    "## Estimate; LANGUAGE SPOKEN AT HOME - Language other than English - Speak English less than \"very well\""
   ]
  },
  {
   "cell_type": "markdown",
   "metadata": {},
   "source": [
    "估计;在家说的语言——英语以外的语言——英语说得不够“好”"
   ]
  },
  {
   "cell_type": "code",
   "execution_count": 583,
   "metadata": {},
   "outputs": [],
   "source": [
    "code = 'HC01_VC170'\n",
    "code2 = 'HC01_VC173'\n",
    "ky_Well = [0.,0.,0.,0.,0.,0.,0.]\n",
    "oh_Well = [0.,0.,0.,0.,0.,0.,0.]\n",
    "pa_Well = [0.,0.,0.,0.,0.,0.,0.]\n",
    "va_Well = [0.,0.,0.,0.,0.,0.,0.]\n",
    "wv_Well = [0.,0.,0.,0.,0.,0.,0.]"
   ]
  },
  {
   "cell_type": "code",
   "execution_count": 584,
   "metadata": {},
   "outputs": [],
   "source": [
    "for i in range(7):\n",
    "    if i < 3:\n",
    "        ky = ky_dict[i][code]\n",
    "        ky_Well[i] = ky.values.astype('float32').mean()\n",
    "    \n",
    "        oh = oh_dict[i][code]\n",
    "        oh_Well[i] = oh.values.astype('float32').mean()\n",
    "    \n",
    "        pa = pa_dict[i][code]\n",
    "        pa_Well[i] = pa.values.astype('float32').mean()\n",
    "    \n",
    "        va = va_dict[i][code]\n",
    "        va_Well[i] = va.values.astype('float32').mean()\n",
    "    \n",
    "        wv = wv_dict[i][code]\n",
    "        wv_Well[i] = wv.values.astype('float32').mean()\n",
    "    else:\n",
    "        ky = ky_dict[i][code2]\n",
    "        ky_Well[i] = ky.values.astype('float32').mean()\n",
    "    \n",
    "        oh = oh_dict[i][code2]\n",
    "        oh_Well[i] = oh.values.astype('float32').mean()\n",
    "    \n",
    "        pa = pa_dict[i][code2]\n",
    "        pa_Well[i] = pa.values.astype('float32').mean()\n",
    "    \n",
    "        va = va_dict[i][code2]\n",
    "        va_Well[i] = va.values.astype('float32').mean()\n",
    "    \n",
    "        wv = wv_dict[i][code2]\n",
    "        wv_Well[i] = wv.values.astype('float32').mean()"
   ]
  },
  {
   "cell_type": "code",
   "execution_count": 585,
   "metadata": {},
   "outputs": [
    {
     "data": {
      "text/plain": [
       "<matplotlib.legend.Legend at 0x7f6942387438>"
      ]
     },
     "execution_count": 585,
     "metadata": {},
     "output_type": "execute_result"
    },
    {
     "data": {
      "image/png": "[encoded data removed]",
      "text/plain": [
       "<Figure size 720x432 with 1 Axes>"
      ]
     },
     "metadata": {},
     "output_type": "display_data"
    }
   ],
   "source": [
    "date = [2010,2011,2012,2013,2014,2015,2016]\n",
    "plt.figure(figsize=(10,6))\n",
    "plt.plot(date,ky_Well)\n",
    "plt.plot(date,oh_Well)\n",
    "plt.plot(date,pa_Well)\n",
    "plt.plot(date,va_Well)\n",
    "plt.plot(date,wv_Well)\n",
    "plt.legend(['KY','OH','PA','VA','WV'])"
   ]
  },
  {
   "cell_type": "code",
   "execution_count": 586,
   "metadata": {},
   "outputs": [
    {
     "data": {
      "text/plain": [
       "[2721.1777, 2778.3555, 2810.3, 2831.0222, 2851.9443, 2891.7556, 2921.9888]"
      ]
     },
     "execution_count": 586,
     "metadata": {},
     "output_type": "execute_result"
    }
   ],
   "source": [
    "oh_Well"
   ]
  },
  {
   "cell_type": "markdown",
   "metadata": {},
   "source": [
    "## Percent; EDUCATIONAL ATTAINMENT - Some college, no degree"
   ]
  },
  {
   "cell_type": "markdown",
   "metadata": {},
   "source": [
    "百分比;学历-大学学历，无学位"
   ]
  },
  {
   "cell_type": "code",
   "execution_count": 523,
   "metadata": {},
   "outputs": [],
   "source": [
    "code = 'HC01_VC88'\n",
    "code2 = 'HC01_VC89'\n",
    "ky_college = [0.,0.,0.,0.,0.,0.,0.]\n",
    "oh_college = [0.,0.,0.,0.,0.,0.,0.]\n",
    "pa_college = [0.,0.,0.,0.,0.,0.,0.]\n",
    "va_college = [0.,0.,0.,0.,0.,0.,0.]\n",
    "wv_college = [0.,0.,0.,0.,0.,0.,0.]"
   ]
  },
  {
   "cell_type": "code",
   "execution_count": 524,
   "metadata": {},
   "outputs": [],
   "source": [
    "for i in range(7):\n",
    "    if i < 3:\n",
    "        ky = ky_dict[i][code]\n",
    "        ky_college[i] = ky.values.astype('float32').mean()\n",
    "    \n",
    "        oh = oh_dict[i][code]\n",
    "        oh_college[i] = oh.values.astype('float32').mean()\n",
    "    \n",
    "        pa = pa_dict[i][code]\n",
    "        pa_college[i] = pa.values.astype('float32').mean()\n",
    "    \n",
    "        va = va_dict[i][code]\n",
    "        va_college[i] = va.values.astype('float32').mean()\n",
    "    \n",
    "        wv = wv_dict[i][code]\n",
    "        wv_college[i] = wv.values.astype('float32').mean()\n",
    "    else:\n",
    "        ky = ky_dict[i][code2]\n",
    "        ky_college[i] = ky.values.astype('float32').mean()\n",
    "    \n",
    "        oh = oh_dict[i][code2]\n",
    "        oh_college[i] = oh.values.astype('float32').mean()\n",
    "    \n",
    "        pa = pa_dict[i][code2]\n",
    "        pa_college[i] = pa.values.astype('float32').mean()\n",
    "    \n",
    "        va = va_dict[i][code2]\n",
    "        va_college[i] = va.values.astype('float32').mean()\n",
    "    \n",
    "        wv = wv_dict[i][code2]\n",
    "        wv_college[i] = wv.values.astype('float32').mean()"
   ]
  },
  {
   "cell_type": "code",
   "execution_count": 525,
   "metadata": {},
   "outputs": [
    {
     "data": {
      "text/plain": [
       "<matplotlib.legend.Legend at 0x7f6948961dd8>"
      ]
     },
     "execution_count": 525,
     "metadata": {},
     "output_type": "execute_result"
    },
    {
     "data": {
      "image/png": "[encoded data removed]",
      "text/plain": [
       "<Figure size 720x432 with 1 Axes>"
      ]
     },
     "metadata": {},
     "output_type": "display_data"
    }
   ],
   "source": [
    "date = [2010,2011,2012,2013,2014,2015,2016]\n",
    "plt.figure(figsize=(10,6))\n",
    "plt.plot(date,ky_college)\n",
    "plt.plot(date,oh_college)\n",
    "plt.plot(date,pa_college)\n",
    "plt.plot(date,va_college)\n",
    "plt.plot(date,wv_college)\n",
    "plt.legend(['KY','OH','PA','VA','WV'])"
   ]
  },
  {
   "cell_type": "markdown",
   "metadata": {},
   "source": [
    "## Percent; EDUCATIONAL ATTAINMENT - Associate's degree"
   ]
  },
  {
   "cell_type": "markdown",
   "metadata": {},
   "source": [
    "百分比;教育程度-副学士学位"
   ]
  },
  {
   "cell_type": "code",
   "execution_count": 526,
   "metadata": {},
   "outputs": [],
   "source": [
    "code = 'HC03_VC89'\n",
    "code2 = 'HC03_VC90'\n",
    "ky_Associate = [0.,0.,0.,0.,0.,0.,0.]\n",
    "oh_Associate = [0.,0.,0.,0.,0.,0.,0.]\n",
    "pa_Associate = [0.,0.,0.,0.,0.,0.,0.]\n",
    "va_Associate = [0.,0.,0.,0.,0.,0.,0.]\n",
    "wv_Associate = [0.,0.,0.,0.,0.,0.,0.]"
   ]
  },
  {
   "cell_type": "code",
   "execution_count": 527,
   "metadata": {},
   "outputs": [],
   "source": [
    "for i in range(7):\n",
    "    if i < 3:\n",
    "        ky = ky_dict[i][code]\n",
    "        ky_Associate[i] = ky.values.astype('float32').mean()\n",
    "    \n",
    "        oh = oh_dict[i][code]\n",
    "        oh_Associate[i] = oh.values.astype('float32').mean()\n",
    "    \n",
    "        pa = pa_dict[i][code]\n",
    "        pa_Associate[i] = pa.values.astype('float32').mean()\n",
    "    \n",
    "        va = va_dict[i][code]\n",
    "        va_Associate[i] = va.values.astype('float32').mean()\n",
    "    \n",
    "        wv = wv_dict[i][code]\n",
    "        wv_Associate[i] = wv.values.astype('float32').mean()\n",
    "    else:\n",
    "        ky = ky_dict[i][code2]\n",
    "        ky_Associate[i] = ky.values.astype('float32').mean()\n",
    "    \n",
    "        oh = oh_dict[i][code2]\n",
    "        oh_Associate[i] = oh.values.astype('float32').mean()\n",
    "    \n",
    "        pa = pa_dict[i][code2]\n",
    "        pa_Associate[i] = pa.values.astype('float32').mean()\n",
    "    \n",
    "        va = va_dict[i][code2]\n",
    "        va_Associate[i] = va.values.astype('float32').mean()\n",
    "    \n",
    "        wv = wv_dict[i][code2]\n",
    "        wv_Associate[i] = wv.values.astype('float32').mean()"
   ]
  },
  {
   "cell_type": "code",
   "execution_count": 528,
   "metadata": {},
   "outputs": [
    {
     "data": {
      "text/plain": [
       "<matplotlib.legend.Legend at 0x7f69410d9a58>"
      ]
     },
     "execution_count": 528,
     "metadata": {},
     "output_type": "execute_result"
    },
    {
     "data": {
      "image/png": "[encoded data removed]",
      "text/plain": [
       "<Figure size 720x432 with 1 Axes>"
      ]
     },
     "metadata": {},
     "output_type": "display_data"
    }
   ],
   "source": [
    "date = [2010,2011,2012,2013,2014,2015,2016]\n",
    "plt.figure(figsize=(10,6))\n",
    "plt.plot(date,ky_Associate)\n",
    "plt.plot(date,oh_Associate)\n",
    "plt.plot(date,pa_Associate)\n",
    "plt.plot(date,va_Associate)\n",
    "plt.plot(date,wv_Associate)\n",
    "plt.legend(['KY','OH','PA','VA','WV'])"
   ]
  },
  {
   "cell_type": "markdown",
   "metadata": {},
   "source": [
    "## Estimate; EDUCATIONAL ATTAINMENT - Bachelor's degree"
   ]
  },
  {
   "cell_type": "markdown",
   "metadata": {},
   "source": [
    "估计;教育程度-学士学位"
   ]
  },
  {
   "cell_type": "code",
   "execution_count": 587,
   "metadata": {},
   "outputs": [],
   "source": [
    "code = 'HC01_VC90'\n",
    "code2 = 'HC01_VC91'\n",
    "ky_Bachelor = [0.,0.,0.,0.,0.,0.,0.]\n",
    "oh_Bachelor = [0.,0.,0.,0.,0.,0.,0.]\n",
    "pa_Bachelor = [0.,0.,0.,0.,0.,0.,0.]\n",
    "va_Bachelor = [0.,0.,0.,0.,0.,0.,0.]\n",
    "wv_Bachelor = [0.,0.,0.,0.,0.,0.,0.]"
   ]
  },
  {
   "cell_type": "code",
   "execution_count": 588,
   "metadata": {},
   "outputs": [],
   "source": [
    "for i in range(7):\n",
    "    if i < 3:\n",
    "        ky = ky_dict[i][code]\n",
    "        ky_Bachelor[i] = ky.values.astype('float32').mean()\n",
    "    \n",
    "        oh = oh_dict[i][code]\n",
    "        oh_Bachelor[i] = oh.values.astype('float32').mean()\n",
    "    \n",
    "        pa = pa_dict[i][code]\n",
    "        pa_Bachelor[i] = pa.values.astype('float32').mean()\n",
    "    \n",
    "        va = va_dict[i][code]\n",
    "        va_Bachelor[i] = va.values.astype('float32').mean()\n",
    "    \n",
    "        wv = wv_dict[i][code]\n",
    "        wv_Bachelor[i] = wv.values.astype('float32').mean()\n",
    "    else:\n",
    "        ky = ky_dict[i][code2]\n",
    "        ky_Bachelor[i] = ky.values.astype('float32').mean()\n",
    "    \n",
    "        oh = oh_dict[i][code2]\n",
    "        oh_Bachelor[i] = oh.values.astype('float32').mean()\n",
    "    \n",
    "        pa = pa_dict[i][code2]\n",
    "        pa_Bachelor[i] = pa.values.astype('float32').mean()\n",
    "    \n",
    "        va = va_dict[i][code2]\n",
    "        va_Bachelor[i] = va.values.astype('float32').mean()\n",
    "    \n",
    "        wv = wv_dict[i][code2]\n",
    "        wv_Bachelor[i] = wv.values.astype('float32').mean()"
   ]
  },
  {
   "cell_type": "code",
   "execution_count": 589,
   "metadata": {},
   "outputs": [
    {
     "data": {
      "text/plain": [
       "<matplotlib.legend.Legend at 0x7f6955139b70>"
      ]
     },
     "execution_count": 589,
     "metadata": {},
     "output_type": "execute_result"
    },
    {
     "data": {
      "image/png": "[encoded data removed]",
      "text/plain": [
       "<Figure size 720x432 with 1 Axes>"
      ]
     },
     "metadata": {},
     "output_type": "display_data"
    }
   ],
   "source": [
    "date = [2010,2011,2012,2013,2014,2015,2016]\n",
    "plt.figure(figsize=(10,6))\n",
    "plt.plot(date,ky_Bachelor)\n",
    "plt.plot(date,oh_Bachelor)\n",
    "plt.plot(date,pa_Bachelor)\n",
    "plt.plot(date,va_Bachelor)\n",
    "plt.plot(date,wv_Bachelor)\n",
    "plt.legend(['KY','OH','PA','VA','WV'])"
   ]
  },
  {
   "cell_type": "code",
   "execution_count": 590,
   "metadata": {},
   "outputs": [
    {
     "data": {
      "text/plain": [
       "[13103.566, 13292.355, 13480.566, 13712.511, 13986.134, 14281.411, 14640.056]"
      ]
     },
     "execution_count": 590,
     "metadata": {},
     "output_type": "execute_result"
    }
   ],
   "source": [
    "oh_Bachelor"
   ]
  },
  {
   "cell_type": "markdown",
   "metadata": {},
   "source": [
    "## Percent; HOUSEHOLDS BY TYPE - Nonfamily households - Householder living alone"
   ]
  },
  {
   "cell_type": "markdown",
   "metadata": {},
   "source": [
    "百分比;按类型划分的家庭-非家庭家庭-独自居住的户主"
   ]
  },
  {
   "cell_type": "code",
   "execution_count": 542,
   "metadata": {},
   "outputs": [],
   "source": [
    "code = 'HC01_VC14'\n",
    "code2 = 'HC01_VC13'\n",
    "ky_disable = [0.,0.,0.,0.,0.,0.,0.]\n",
    "oh_disable = [0.,0.,0.,0.,0.,0.,0.]\n",
    "pa_disable = [0.,0.,0.,0.,0.,0.,0.]\n",
    "va_disable = [0.,0.,0.,0.,0.,0.,0.]\n",
    "wv_disable = [0.,0.,0.,0.,0.,0.,0.]"
   ]
  },
  {
   "cell_type": "code",
   "execution_count": 547,
   "metadata": {},
   "outputs": [
    {
     "data": {
      "text/plain": [
       "3916.5166"
      ]
     },
     "execution_count": 547,
     "metadata": {},
     "output_type": "execute_result"
    }
   ],
   "source": [
    "ky_disable[1]"
   ]
  },
  {
   "cell_type": "code",
   "execution_count": 544,
   "metadata": {},
   "outputs": [],
   "source": [
    "for i in range(7):\n",
    "    if i < 3:\n",
    "        ky = ky_dict[i][code]\n",
    "        ky_disable[i] = ky.values.astype('float32').mean()\n",
    "    \n",
    "        oh = oh_dict[i][code]\n",
    "        oh_disable[i] = oh.values.astype('float32').mean()\n",
    "    \n",
    "        pa = pa_dict[i][code]\n",
    "        pa_disable[i] = pa.values.astype('float32').mean()\n",
    "    \n",
    "        va = va_dict[i][code]\n",
    "        va_disable[i] = va.values.astype('float32').mean()\n",
    "    \n",
    "        wv = wv_dict[i][code]\n",
    "        wv_disable[i] = wv.values.astype('float32').mean()\n",
    "    else:\n",
    "        ky = ky_dict[i][code2]\n",
    "        ky_disable[i] = ky.values.astype('float32').mean()\n",
    "    \n",
    "        oh = oh_dict[i][code2]\n",
    "        oh_disable[i] = oh.values.astype('float32').mean()\n",
    "    \n",
    "        pa = pa_dict[i][code2]\n",
    "        pa_disable[i] = pa.values.astype('float32').mean()\n",
    "    \n",
    "        va = va_dict[i][code2]\n",
    "        va_disable[i] = va.values.astype('float32').mean()\n",
    "    \n",
    "        wv = wv_dict[i][code2]\n",
    "        wv_disable[i] = wv.values.astype('float32').mean()"
   ]
  },
  {
   "cell_type": "code",
   "execution_count": 545,
   "metadata": {},
   "outputs": [
    {
     "data": {
      "text/plain": [
       "<matplotlib.legend.Legend at 0x7f6942703ac8>"
      ]
     },
     "execution_count": 545,
     "metadata": {},
     "output_type": "execute_result"
    },
    {
     "data": {
      "image/png": "[encoded data removed]",
      "text/plain": [
       "<Figure size 720x432 with 1 Axes>"
      ]
     },
     "metadata": {},
     "output_type": "display_data"
    }
   ],
   "source": [
    "date = [2012,2013,2014,2015,2016]\n",
    "plt.figure(figsize=(10,6))\n",
    "plt.plot(date,ky_disable[2:])\n",
    "plt.plot(date,oh_disable[2:])\n",
    "plt.plot(date,pa_disable[2:])\n",
    "plt.plot(date,va_disable[2:])\n",
    "plt.plot(date,wv_disable[2:])\n",
    "plt.legend(['KY','OH','PA','VA','WV'])"
   ]
  },
  {
   "cell_type": "markdown",
   "metadata": {},
   "source": [
    "-----"
   ]
  },
  {
   "cell_type": "markdown",
   "metadata": {},
   "source": [
    "## 神经网络回归"
   ]
  },
  {
   "cell_type": "code",
   "execution_count": 624,
   "metadata": {},
   "outputs": [],
   "source": [
    "ky = [29588 / 624, 28285 / 647, 27502 / 665, 26820 / 634, 27077 / 710, 25811 / 667, 26530 / 708]\n",
    "oh = [70999 / 686, 71282 / 682, 85415 / 660, 93747 / 639, 101423 / 704, 109150 / 805, 115276 / 957]\n",
    "wv = [8668 / 202, 9310 / 186, 9429 / 222, 9062 / 231, 6926 / 241, 5345 / 226, 5405 / 203]\n",
    "va = [41462 / 822, 28969 / 624, 32251 / 696, 47694 / 861, 32265 / 739, 27819 / 675, 33539 / 842]\n",
    "pa = [89981 / 501, 86793 / 522, 78577 / 502, 72096 / 496, 77318 / 485, 75351 / 525, 72376 / 620]"
   ]
  },
  {
   "cell_type": "code",
   "execution_count": 626,
   "metadata": {},
   "outputs": [
    {
     "data": {
      "text/plain": [
       "[103.49708454810495,\n",
       " 104.51906158357771,\n",
       " 129.41666666666666,\n",
       " 146.70892018779344,\n",
       " 144.06676136363637,\n",
       " 135.59006211180125,\n",
       " 120.45559038662486]"
      ]
     },
     "execution_count": 626,
     "metadata": {},
     "output_type": "execute_result"
    }
   ],
   "source": [
    "oh"
   ]
  },
  {
   "cell_type": "code",
   "execution_count": 625,
   "metadata": {},
   "outputs": [],
   "source": [
    "from sklearn.neural_network import MLPClassifier"
   ]
  },
  {
   "cell_type": "code",
   "execution_count": 622,
   "metadata": {},
   "outputs": [
    {
     "data": {
      "text/plain": [
       "KNeighborsRegressor(algorithm='auto', leaf_size=30, metric='minkowski',\n",
       "          metric_params=None, n_jobs=1, n_neighbors=2, p=2,\n",
       "          weights='uniform')"
      ]
     },
     "execution_count": 622,
     "metadata": {},
     "output_type": "execute_result"
    }
   ],
   "source": [
    "clf = MLPClassifier(solver='lbfgs', alpha=1e-5,hidden_layer_sizes=(5, 2), random_state=1)\n",
    "neigh.fit([oh_alone, oh_Divorced, oh_grandchildren, oh_Africa, oh_Well, oh_Bachelor], oh[0:6]) "
   ]
  },
  {
   "cell_type": "code",
   "execution_count": 623,
   "metadata": {},
   "outputs": [
    {
     "name": "stdout",
     "output_type": "stream",
     "text": [
      "[123.78192296 120.05456185 138.06279343 138.06279343 123.78192296\n",
      " 139.82841174]\n"
     ]
    }
   ],
   "source": [
    "print(neigh.predict([oh_alone, oh_Divorced, oh_grandchildren, oh_Africa, oh_Well, oh_Bachelor]))"
   ]
  },
  {
   "cell_type": "markdown",
   "metadata": {},
   "source": [
    "---"
   ]
  },
  {
   "cell_type": "markdown",
   "metadata": {},
   "source": [
    "## 英语说的好与药物相关性分析"
   ]
  },
  {
   "cell_type": "code",
   "execution_count": 228,
   "metadata": {},
   "outputs": [],
   "source": [
    "dict_Well = [ky_Well,oh_Well,pa_Well,va_Well,wv_Well]"
   ]
  },
  {
   "cell_type": "code",
   "execution_count": 229,
   "metadata": {},
   "outputs": [
    {
     "name": "stdout",
     "output_type": "stream",
     "text": [
      "          a         b\n",
      "a  1.000000  0.935437\n",
      "b  0.935437  1.000000\n",
      "          a         b\n",
      "a  1.000000  0.874233\n",
      "b  0.874233  1.000000\n",
      "          a         b\n",
      "a  1.000000 -0.854119\n",
      "b -0.854119  1.000000\n",
      "          a         b\n",
      "a  1.000000 -0.169041\n",
      "b -0.169041  1.000000\n",
      "          a         b\n",
      "a  1.000000 -0.771917\n",
      "b -0.771917  1.000000\n"
     ]
    }
   ],
   "source": [
    "for i in range(5):\n",
    "    a = np.array(dict[i])\n",
    "    b = np.array(dict_Well[i])\n",
    "    data = np.vstack((a,b)).T\n",
    "    DF = pd.DataFrame(data,columns=['a','b'])\n",
    "    print(DF.corr())"
   ]
  },
  {
   "cell_type": "markdown",
   "metadata": {},
   "source": [
    "## 非洲与药物相关性分析"
   ]
  },
  {
   "cell_type": "code",
   "execution_count": 230,
   "metadata": {},
   "outputs": [],
   "source": [
    "ky = [29588,28285,27502,26820,27077,25811,26530]\n",
    "oh = [70999,71282,85415,93747,101423,109150,115276]\n",
    "wv = [8668,9310,9429,9062,6926,5345,5405]\n",
    "va = [41462,28969,32251,47694,32265,27819,33539]\n",
    "pa = [89981,86793,78577,72096,77318,75351,72376]\n",
    "dict = [ky,oh,pa,va,wv]\n",
    "dict_Africa = [ky_Africa,oh_Africa,pa_Africa,va_Africa,wv_Africa]"
   ]
  },
  {
   "cell_type": "code",
   "execution_count": 231,
   "metadata": {},
   "outputs": [
    {
     "name": "stdout",
     "output_type": "stream",
     "text": [
      "          a         b\n",
      "a  1.000000 -0.944748\n",
      "b -0.944748  1.000000\n",
      "          a         b\n",
      "a  1.000000  0.018103\n",
      "b  0.018103  1.000000\n",
      "          a         b\n",
      "a  1.000000 -0.786589\n",
      "b -0.786589  1.000000\n",
      "          a         b\n",
      "a  1.000000 -0.150406\n",
      "b -0.150406  1.000000\n",
      "          a         b\n",
      "a  1.000000 -0.569776\n",
      "b -0.569776  1.000000\n"
     ]
    }
   ],
   "source": [
    "for i in range(5):\n",
    "    a = np.array(dict[i])\n",
    "    b = np.array(dict_Africa[i])\n",
    "    data = np.vstack((a,b)).T\n",
    "    DF = pd.DataFrame(data,columns=['a','b'])\n",
    "    print(DF.corr())"
   ]
  },
  {
   "cell_type": "markdown",
   "metadata": {},
   "source": [
    "## 意大利与药物相关性分析"
   ]
  },
  {
   "cell_type": "code",
   "execution_count": 232,
   "metadata": {},
   "outputs": [],
   "source": [
    "dict_Italian = [ky_Italian,oh_Italian,pa_Italian,va_Italian,wv_Italian]"
   ]
  },
  {
   "cell_type": "code",
   "execution_count": 233,
   "metadata": {},
   "outputs": [
    {
     "name": "stdout",
     "output_type": "stream",
     "text": [
      "          a         b\n",
      "a  1.000000  0.597052\n",
      "b  0.597052  1.000000\n",
      "          a         b\n",
      "a  1.000000  0.574801\n",
      "b  0.574801  1.000000\n",
      "          a         b\n",
      "a  1.000000  0.875245\n",
      "b  0.875245  1.000000\n",
      "          a         b\n",
      "a  1.000000 -0.208701\n",
      "b -0.208701  1.000000\n",
      "          a         b\n",
      "a  1.000000  0.930581\n",
      "b  0.930581  1.000000\n"
     ]
    }
   ],
   "source": [
    "for i in range(5):\n",
    "    a = np.array(dict[i])\n",
    "    b = np.array(dict_Italian[i])\n",
    "    data = np.vstack((a,b)).T\n",
    "    DF = pd.DataFrame(data,columns=['a','b'])\n",
    "    print(DF.corr())"
   ]
  },
  {
   "cell_type": "markdown",
   "metadata": {},
   "source": [
    "## 离婚人数与药物相关性分析"
   ]
  },
  {
   "cell_type": "code",
   "execution_count": 234,
   "metadata": {},
   "outputs": [],
   "source": [
    "dict_Divorced = [ky_Divorced,oh_Divorced,pa_Divorced,va_Divorced,wv_Divorced]"
   ]
  },
  {
   "cell_type": "code",
   "execution_count": 235,
   "metadata": {},
   "outputs": [
    {
     "name": "stdout",
     "output_type": "stream",
     "text": [
      "          a         b\n",
      "a  1.000000 -0.278417\n",
      "b -0.278417  1.000000\n",
      "          a         b\n",
      "a  1.000000 -0.598563\n",
      "b -0.598563  1.000000\n",
      "          a         b\n",
      "a  1.000000  0.656405\n",
      "b  0.656405  1.000000\n",
      "          a         b\n",
      "a  1.000000 -0.438318\n",
      "b -0.438318  1.000000\n",
      "          a         b\n",
      "a  1.000000 -0.917406\n",
      "b -0.917406  1.000000\n"
     ]
    }
   ],
   "source": [
    "for i in range(5):\n",
    "    a = np.array(dict[i])\n",
    "    b = np.array(dict_Divorced[i])\n",
    "    data = np.vstack((a,b)).T\n",
    "    DF = pd.DataFrame(data,columns=['a','b'])\n",
    "    print(DF.corr())"
   ]
  }
 ],
 "metadata": {
  "kernelspec": {
   "display_name": "Python 3",
   "language": "python",
   "name": "python3"
  },
  "language_info": {
   "codemirror_mode": {
    "name": "ipython",
    "version": 3
   },
   "file_extension": ".py",
   "mimetype": "text/x-python",
   "name": "python",
   "nbconvert_exporter": "python",
   "pygments_lexer": "ipython3",
   "version": "3.6.5"
  }
 },
 "nbformat": 4,
 "nbformat_minor": 2
}
