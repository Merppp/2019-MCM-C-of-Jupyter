{
 "cells": [
  {
   "cell_type": "code",
   "execution_count": 1,
   "metadata": {},
   "outputs": [],
   "source": [
    "import pandas as pd\n",
    "import numpy as np"
   ]
  },
  {
   "cell_type": "code",
   "execution_count": 160,
   "metadata": {},
   "outputs": [],
   "source": [
    "ky = pd.read_excel(\"Data/WV合成类.xlsx\")"
   ]
  },
  {
   "cell_type": "code",
   "execution_count": 161,
   "metadata": {
    "scrolled": true
   },
   "outputs": [
    {
     "data": {
      "text/plain": [
       "array([124, 150, 160, 168, 219, 377, 473, 408])"
      ]
     },
     "execution_count": 161,
     "metadata": {},
     "output_type": "execute_result"
    }
   ],
   "source": [
    "ky.groupby(\"YYYY\").sum()['DrugReports'].values"
   ]
  },
  {
   "cell_type": "markdown",
   "metadata": {},
   "source": [
    "---"
   ]
  },
  {
   "cell_type": "code",
   "execution_count": 101,
   "metadata": {},
   "outputs": [],
   "source": [
    "ky = pd.read_excel(\"Data/KY_Heroin.xlsx\")"
   ]
  },
  {
   "cell_type": "code",
   "execution_count": 102,
   "metadata": {},
   "outputs": [],
   "source": [
    "ky.loc[ky['YYYY'] == 2010].groupby('COUNTY').sum().to_excel(\"KY_HEROIN_2010.xlsx\")\n",
    "ky.loc[ky['YYYY'] == 2011].groupby('COUNTY').sum().to_excel(\"KY_HEROIN_2011.xlsx\")\n",
    "ky.loc[ky['YYYY'] == 2012].groupby('COUNTY').sum().to_excel(\"KY_HEROIN_2012.xlsx\")\n",
    "ky.loc[ky['YYYY'] == 2013].groupby('COUNTY').sum().to_excel(\"KY_HEROIN_2013.xlsx\")\n",
    "ky.loc[ky['YYYY'] == 2014].groupby('COUNTY').sum().to_excel(\"KY_HEROIN_2014.xlsx\")\n",
    "ky.loc[ky['YYYY'] == 2015].groupby('COUNTY').sum().to_excel(\"KY_HEROIN_2015.xlsx\")\n",
    "ky.loc[ky['YYYY'] == 2016].groupby('COUNTY').sum().to_excel(\"KY_HEROIN_2016.xlsx\")\n",
    "ky.loc[ky['YYYY'] == 2017].groupby('COUNTY').sum().to_excel(\"KY_HEROIN_2017.xlsx\")"
   ]
  },
  {
   "cell_type": "code",
   "execution_count": 81,
   "metadata": {},
   "outputs": [],
   "source": [
    "ky.loc[ky['YYYY'] == 2010].groupby('COUNTY').sum().to_excel(\"OH_HEROIN_2010.xlsx\")\n",
    "ky.loc[ky['YYYY'] == 2011].groupby('COUNTY').sum().to_excel(\"OH_HEROIN_2011.xlsx\")\n",
    "ky.loc[ky['YYYY'] == 2012].groupby('COUNTY').sum().to_excel(\"OH_HEROIN_2012.xlsx\")\n",
    "ky.loc[ky['YYYY'] == 2013].groupby('COUNTY').sum().to_excel(\"OH_HEROIN_2013.xlsx\")\n",
    "ky.loc[ky['YYYY'] == 2014].groupby('COUNTY').sum().to_excel(\"OH_HEROIN_2014.xlsx\")\n",
    "ky.loc[ky['YYYY'] == 2015].groupby('COUNTY').sum().to_excel(\"OH_HEROIN_2015.xlsx\")\n",
    "ky.loc[ky['YYYY'] == 2016].groupby('COUNTY').sum().to_excel(\"OH_HEROIN_2016.xlsx\")\n",
    "ky.loc[ky['YYYY'] == 2017].groupby('COUNTY').sum().to_excel(\"OH_HEROIN_2017.xlsx\")"
   ]
  },
  {
   "cell_type": "code",
   "execution_count": 100,
   "metadata": {},
   "outputs": [],
   "source": [
    "ky.loc[ky['YYYY'] == 2010].groupby('COUNTY').sum().to_excel(\"PA_HEROIN_2010.xlsx\")\n",
    "ky.loc[ky['YYYY'] == 2011].groupby('COUNTY').sum().to_excel(\"PA_HEROIN_2011.xlsx\")\n",
    "ky.loc[ky['YYYY'] == 2012].groupby('COUNTY').sum().to_excel(\"PA_HEROIN_2012.xlsx\")\n",
    "ky.loc[ky['YYYY'] == 2013].groupby('COUNTY').sum().to_excel(\"PA_HEROIN_2013.xlsx\")\n",
    "ky.loc[ky['YYYY'] == 2014].groupby('COUNTY').sum().to_excel(\"PA_HEROIN_2014.xlsx\")\n",
    "ky.loc[ky['YYYY'] == 2015].groupby('COUNTY').sum().to_excel(\"PA_HEROIN_2015.xlsx\")\n",
    "ky.loc[ky['YYYY'] == 2016].groupby('COUNTY').sum().to_excel(\"PA_HEROIN_2016.xlsx\")\n",
    "ky.loc[ky['YYYY'] == 2017].groupby('COUNTY').sum().to_excel(\"PA_HEROIN_2017.xlsx\")"
   ]
  },
  {
   "cell_type": "code",
   "execution_count": 84,
   "metadata": {},
   "outputs": [],
   "source": [
    "ky.loc[ky['YYYY'] == 2010].groupby('COUNTY').sum().to_excel(\"VA_HEROIN_2010.xlsx\")\n",
    "ky.loc[ky['YYYY'] == 2011].groupby('COUNTY').sum().to_excel(\"VA_HEROIN_2011.xlsx\")\n",
    "ky.loc[ky['YYYY'] == 2012].groupby('COUNTY').sum().to_excel(\"VA_HEROIN_2012.xlsx\")\n",
    "ky.loc[ky['YYYY'] == 2013].groupby('COUNTY').sum().to_excel(\"VA_HEROIN_2013.xlsx\")\n",
    "ky.loc[ky['YYYY'] == 2014].groupby('COUNTY').sum().to_excel(\"VA_HEROIN_2014.xlsx\")\n",
    "ky.loc[ky['YYYY'] == 2015].groupby('COUNTY').sum().to_excel(\"VA_HEROIN_2015.xlsx\")\n",
    "ky.loc[ky['YYYY'] == 2016].groupby('COUNTY').sum().to_excel(\"VA_HEROIN_2016.xlsx\")\n",
    "ky.loc[ky['YYYY'] == 2017].groupby('COUNTY').sum().to_excel(\"VA_HEROIN_2017.xlsx\")"
   ]
  },
  {
   "cell_type": "code",
   "execution_count": 86,
   "metadata": {},
   "outputs": [],
   "source": [
    "ky.loc[ky['YYYY'] == 2010].groupby('COUNTY').sum().to_excel(\"WV_HEROIN_2010.xlsx\")\n",
    "ky.loc[ky['YYYY'] == 2011].groupby('COUNTY').sum().to_excel(\"WV_HEROIN_2011.xlsx\")\n",
    "ky.loc[ky['YYYY'] == 2012].groupby('COUNTY').sum().to_excel(\"WV_HEROIN_2012.xlsx\")\n",
    "ky.loc[ky['YYYY'] == 2013].groupby('COUNTY').sum().to_excel(\"WV_HEROIN_2013.xlsx\")\n",
    "ky.loc[ky['YYYY'] == 2014].groupby('COUNTY').sum().to_excel(\"WV_HEROIN_2014.xlsx\")\n",
    "ky.loc[ky['YYYY'] == 2015].groupby('COUNTY').sum().to_excel(\"WV_HEROIN_2015.xlsx\")\n",
    "ky.loc[ky['YYYY'] == 2016].groupby('COUNTY').sum().to_excel(\"WV_HEROIN_2016.xlsx\")\n",
    "ky.loc[ky['YYYY'] == 2017].groupby('COUNTY').sum().to_excel(\"WV_HEROIN_2017.xlsx\")"
   ]
  }
 ],
 "metadata": {
  "kernelspec": {
   "display_name": "Python 3",
   "language": "python",
   "name": "python3"
  },
  "language_info": {
   "codemirror_mode": {
    "name": "ipython",
    "version": 3
   },
   "file_extension": ".py",
   "mimetype": "text/x-python",
   "name": "python",
   "nbconvert_exporter": "python",
   "pygments_lexer": "ipython3",
   "version": "3.6.5"
  }
 },
 "nbformat": 4,
 "nbformat_minor": 2
}
