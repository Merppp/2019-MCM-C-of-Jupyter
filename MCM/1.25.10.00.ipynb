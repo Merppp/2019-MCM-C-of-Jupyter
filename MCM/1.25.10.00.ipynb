{
 "cells": [
  {
   "cell_type": "code",
   "execution_count": 188,
   "metadata": {},
   "outputs": [],
   "source": [
    "import pandas as pd\n",
    "import numpy as np\n",
    "np.set_printoptions(suppress=True)\n",
    "import matplotlib.pyplot as plt\n",
    "from sklearn.decomposition import \n",
    "%matplotlib inline"
   ]
  },
  {
   "cell_type": "markdown",
   "metadata": {},
   "source": [
    "## 抽取PA每年的数据"
   ]
  },
  {
   "cell_type": "code",
   "execution_count": 84,
   "metadata": {},
   "outputs": [],
   "source": [
    "PA_Data = pd.read_excel(\"Data/PA_Data.xlsx\")\n",
    "year = set(PA_Data['YYYY'].values)\n",
    "for y in year:\n",
    "    test = PA_Data.loc[PA_Data['YYYY'] == y]\n",
    "    test.to_csv(\"Data/PA_{0}.csv\".format(y))"
   ]
  },
  {
   "cell_type": "markdown",
   "metadata": {},
   "source": [
    "## 抽取PA每个县的数据"
   ]
  },
  {
   "cell_type": "code",
   "execution_count": 95,
   "metadata": {},
   "outputs": [],
   "source": [
    "PA_Data = pd.read_excel(\"Data/PA_Data.xlsx\")\n",
    "county = set(PA_Data['COUNTY'].values)\n",
    "for c in county:\n",
    "    test = PA_Data.loc[PA_Data['COUNTY'] == c]\n",
    "    test.to_csv(\"Data/PA_{0}.csv\".format(c))"
   ]
  },
  {
   "cell_type": "markdown",
   "metadata": {},
   "source": [
    "## 抽取KY每年的数据"
   ]
  },
  {
   "cell_type": "code",
   "execution_count": 96,
   "metadata": {},
   "outputs": [],
   "source": [
    "KY_Data = pd.read_excel(\"Data/KY_Data.xlsx\")\n",
    "year = set(KY_Data['YYYY'].values)\n",
    "for y in year:\n",
    "    test = KY_Data.loc[KY_Data['YYYY'] == y]\n",
    "    test.to_csv(\"Data/KY_{0}.csv\".format(y))"
   ]
  },
  {
   "cell_type": "markdown",
   "metadata": {},
   "source": [
    "## 抽取KY每个县的数据"
   ]
  },
  {
   "cell_type": "code",
   "execution_count": 97,
   "metadata": {},
   "outputs": [],
   "source": [
    "KY_Data = pd.read_excel(\"Data/KY_Data.xlsx\")\n",
    "county = set(KY_Data['COUNTY'].values)\n",
    "for c in county:\n",
    "    test = KY_Data.loc[KY_Data['COUNTY'] == c]\n",
    "    test.to_csv(\"Data/KY_{0}.csv\".format(y))"
   ]
  },
  {
   "cell_type": "markdown",
   "metadata": {},
   "source": [
    "## 抽取OH每年的数据"
   ]
  },
  {
   "cell_type": "code",
   "execution_count": null,
   "metadata": {},
   "outputs": [],
   "source": [
    "OH_Data = pd.read_excel(\"Data/OH_Data.xlsx\")\n",
    "year = set(OH_Data['YYYY'].values)\n",
    "for y in year:\n",
    "    test = OH_Data.loc[OH_Data['YYYY'] == y]\n",
    "    test.to_csv(\"Data/OH_{0}.csv\".format(y))"
   ]
  },
  {
   "cell_type": "markdown",
   "metadata": {},
   "source": [
    "## 抽取OH每个县的数据"
   ]
  },
  {
   "cell_type": "code",
   "execution_count": null,
   "metadata": {},
   "outputs": [],
   "source": [
    "OH_Data = pd.read_excel(\"Data/OH_Data.xlsx\")\n",
    "county = set(OH_Data['COUNTY'].values)\n",
    "for c in county:\n",
    "    test = OH_Data.loc[KY_Data['COUNTY'] == c]\n",
    "    test.to_csv(\"Data/OH_{0}.csv\".format(y))"
   ]
  },
  {
   "cell_type": "markdown",
   "metadata": {},
   "source": [
    "## 抽取WV每年的数据"
   ]
  },
  {
   "cell_type": "code",
   "execution_count": null,
   "metadata": {},
   "outputs": [],
   "source": [
    "WV_Data = pd.read_excel(\"Data/WV_Data.xlsx\")\n",
    "year = set(WV_Data['YYYY'].values)\n",
    "for y in year:\n",
    "    test = WV_Data.loc[WV_Data['YYYY'] == y]\n",
    "    test.to_csv(\"Data/WV_{0}.csv\".format(y))"
   ]
  },
  {
   "cell_type": "markdown",
   "metadata": {},
   "source": [
    "## 抽取WV每个县的数据"
   ]
  },
  {
   "cell_type": "code",
   "execution_count": null,
   "metadata": {},
   "outputs": [],
   "source": [
    "WV_Data = pd.read_excel(\"Data/WV_Data.xlsx\")\n",
    "county = set(WV_Data['COUNTY'].values)\n",
    "for c in county:\n",
    "    test = WV_Data.loc[WV_Data['COUNTY'] == c]\n",
    "    test.to_csv(\"Data/WV_{0}.csv\".format(y))"
   ]
  },
  {
   "cell_type": "markdown",
   "metadata": {},
   "source": [
    "## 抽取VA每年的数据"
   ]
  },
  {
   "cell_type": "code",
   "execution_count": null,
   "metadata": {},
   "outputs": [],
   "source": [
    "VA_Data = pd.read_excel(\"Data/VA_Data.xlsx\")\n",
    "year = set(VA_Data['YYYY'].values)\n",
    "for y in year:\n",
    "    test = VA_Data.loc[VA_Data['YYYY'] == y]\n",
    "    test.to_csv(\"Data/VA_{0}.csv\".format(y))"
   ]
  },
  {
   "cell_type": "markdown",
   "metadata": {},
   "source": [
    "## 抽取VA每个县的数据"
   ]
  },
  {
   "cell_type": "code",
   "execution_count": null,
   "metadata": {},
   "outputs": [],
   "source": [
    "VA_Data = pd.read_excel(\"Data/VA_Data.xlsx\")\n",
    "county = set(VA_Data['COUNTY'].values)\n",
    "for c in county:\n",
    "    test = VA_Data.loc[VA_Data['COUNTY'] == c]\n",
    "    test.to_csv(\"Data/VA_{0}.csv\".format(y))"
   ]
  },
  {
   "cell_type": "markdown",
   "metadata": {},
   "source": [
    "----"
   ]
  },
  {
   "cell_type": "code",
   "execution_count": 217,
   "metadata": {},
   "outputs": [
    {
     "data": {
      "text/html": [
       "<div>\n",
       "<style scoped>\n",
       "    .dataframe tbody tr th:only-of-type {\n",
       "        vertical-align: middle;\n",
       "    }\n",
       "\n",
       "    .dataframe tbody tr th {\n",
       "        vertical-align: top;\n",
       "    }\n",
       "\n",
       "    .dataframe thead th {\n",
       "        text-align: right;\n",
       "    }\n",
       "</style>\n",
       "<table border=\"1\" class=\"dataframe\">\n",
       "  <thead>\n",
       "    <tr style=\"text-align: right;\">\n",
       "      <th></th>\n",
       "      <th>YYYY</th>\n",
       "      <th>State</th>\n",
       "      <th>COUNTY</th>\n",
       "      <th>SubstanceName</th>\n",
       "      <th>DrugReports</th>\n",
       "      <th>TotalDrugReportsCounty</th>\n",
       "      <th>TotalDrugReportsState</th>\n",
       "    </tr>\n",
       "  </thead>\n",
       "  <tbody>\n",
       "    <tr>\n",
       "      <th>0</th>\n",
       "      <td>2010</td>\n",
       "      <td>VA</td>\n",
       "      <td>ACCOMACK</td>\n",
       "      <td>Propoxyphene</td>\n",
       "      <td>1</td>\n",
       "      <td>84</td>\n",
       "      <td>41462</td>\n",
       "    </tr>\n",
       "    <tr>\n",
       "      <th>1</th>\n",
       "      <td>2010</td>\n",
       "      <td>OH</td>\n",
       "      <td>ADAMS</td>\n",
       "      <td>Morphine</td>\n",
       "      <td>9</td>\n",
       "      <td>527</td>\n",
       "      <td>70999</td>\n",
       "    </tr>\n",
       "    <tr>\n",
       "      <th>2</th>\n",
       "      <td>2010</td>\n",
       "      <td>PA</td>\n",
       "      <td>ADAMS</td>\n",
       "      <td>Methadone</td>\n",
       "      <td>2</td>\n",
       "      <td>334</td>\n",
       "      <td>89981</td>\n",
       "    </tr>\n",
       "    <tr>\n",
       "      <th>3</th>\n",
       "      <td>2010</td>\n",
       "      <td>VA</td>\n",
       "      <td>ALEXANDRIA CITY</td>\n",
       "      <td>Heroin</td>\n",
       "      <td>5</td>\n",
       "      <td>427</td>\n",
       "      <td>41462</td>\n",
       "    </tr>\n",
       "    <tr>\n",
       "      <th>4</th>\n",
       "      <td>2010</td>\n",
       "      <td>PA</td>\n",
       "      <td>ALLEGHENY</td>\n",
       "      <td>Hydromorphone</td>\n",
       "      <td>5</td>\n",
       "      <td>8500</td>\n",
       "      <td>89981</td>\n",
       "    </tr>\n",
       "  </tbody>\n",
       "</table>\n",
       "</div>"
      ],
      "text/plain": [
       "   YYYY State           COUNTY  SubstanceName  DrugReports  \\\n",
       "0  2010    VA         ACCOMACK   Propoxyphene            1   \n",
       "1  2010    OH            ADAMS       Morphine            9   \n",
       "2  2010    PA            ADAMS      Methadone            2   \n",
       "3  2010    VA  ALEXANDRIA CITY         Heroin            5   \n",
       "4  2010    PA        ALLEGHENY  Hydromorphone            5   \n",
       "\n",
       "   TotalDrugReportsCounty  TotalDrugReportsState  \n",
       "0                      84                  41462  \n",
       "1                     527                  70999  \n",
       "2                     334                  89981  \n",
       "3                     427                  41462  \n",
       "4                    8500                  89981  "
      ]
     },
     "execution_count": 217,
     "metadata": {},
     "output_type": "execute_result"
    }
   ],
   "source": [
    "Data = pd.read_excel(\"Data/DrugReports.xlsx\")\n",
    "Data.head()"
   ]
  },
  {
   "cell_type": "markdown",
   "metadata": {},
   "source": [
    "# KY州每个县各种物质用量"
   ]
  },
  {
   "cell_type": "code",
   "execution_count": 272,
   "metadata": {},
   "outputs": [
    {
     "data": {
      "text/html": [
       "<div>\n",
       "<style scoped>\n",
       "    .dataframe tbody tr th:only-of-type {\n",
       "        vertical-align: middle;\n",
       "    }\n",
       "\n",
       "    .dataframe tbody tr th {\n",
       "        vertical-align: top;\n",
       "    }\n",
       "\n",
       "    .dataframe thead th {\n",
       "        text-align: right;\n",
       "    }\n",
       "</style>\n",
       "<table border=\"1\" class=\"dataframe\">\n",
       "  <thead>\n",
       "    <tr style=\"text-align: right;\">\n",
       "      <th></th>\n",
       "      <th>YYYY</th>\n",
       "      <th>State</th>\n",
       "      <th>COUNTY</th>\n",
       "      <th>SubstanceName</th>\n",
       "      <th>DrugReports</th>\n",
       "      <th>TotalDrugReportsCounty</th>\n",
       "      <th>TotalDrugReportsState</th>\n",
       "    </tr>\n",
       "  </thead>\n",
       "  <tbody>\n",
       "    <tr>\n",
       "      <th>5</th>\n",
       "      <td>2010</td>\n",
       "      <td>KY</td>\n",
       "      <td>ALLEN</td>\n",
       "      <td>Oxycodone</td>\n",
       "      <td>15</td>\n",
       "      <td>168</td>\n",
       "      <td>29588</td>\n",
       "    </tr>\n",
       "    <tr>\n",
       "      <th>6</th>\n",
       "      <td>2010</td>\n",
       "      <td>KY</td>\n",
       "      <td>ALLEN</td>\n",
       "      <td>Oxymorphone</td>\n",
       "      <td>1</td>\n",
       "      <td>168</td>\n",
       "      <td>29588</td>\n",
       "    </tr>\n",
       "    <tr>\n",
       "      <th>20</th>\n",
       "      <td>2010</td>\n",
       "      <td>KY</td>\n",
       "      <td>BARREN</td>\n",
       "      <td>Morphine</td>\n",
       "      <td>3</td>\n",
       "      <td>383</td>\n",
       "      <td>29588</td>\n",
       "    </tr>\n",
       "    <tr>\n",
       "      <th>21</th>\n",
       "      <td>2010</td>\n",
       "      <td>KY</td>\n",
       "      <td>BATH</td>\n",
       "      <td>Buprenorphine</td>\n",
       "      <td>1</td>\n",
       "      <td>81</td>\n",
       "      <td>29588</td>\n",
       "    </tr>\n",
       "    <tr>\n",
       "      <th>22</th>\n",
       "      <td>2010</td>\n",
       "      <td>KY</td>\n",
       "      <td>BATH</td>\n",
       "      <td>Hydrocodone</td>\n",
       "      <td>7</td>\n",
       "      <td>81</td>\n",
       "      <td>29588</td>\n",
       "    </tr>\n",
       "  </tbody>\n",
       "</table>\n",
       "</div>"
      ],
      "text/plain": [
       "    YYYY State  COUNTY  SubstanceName  DrugReports  TotalDrugReportsCounty  \\\n",
       "5   2010    KY   ALLEN      Oxycodone           15                     168   \n",
       "6   2010    KY   ALLEN    Oxymorphone            1                     168   \n",
       "20  2010    KY  BARREN       Morphine            3                     383   \n",
       "21  2010    KY    BATH  Buprenorphine            1                      81   \n",
       "22  2010    KY    BATH    Hydrocodone            7                      81   \n",
       "\n",
       "    TotalDrugReportsState  \n",
       "5                   29588  \n",
       "6                   29588  \n",
       "20                  29588  \n",
       "21                  29588  \n",
       "22                  29588  "
      ]
     },
     "execution_count": 272,
     "metadata": {},
     "output_type": "execute_result"
    }
   ],
   "source": [
    "KY_Data = Data.loc[Data['State'] == 'KY']\n",
    "KY_Data.head()"
   ]
  },
  {
   "cell_type": "markdown",
   "metadata": {},
   "source": [
    "## 取出KY州的所有县，以及KY州的所有药物名称"
   ]
  },
  {
   "cell_type": "code",
   "execution_count": 273,
   "metadata": {},
   "outputs": [],
   "source": [
    "KY_County = set(KY_Data['COUNTY'])\n",
    "KY_SubstanceName = set(KY_Data['SubstanceName'])"
   ]
  },
  {
   "cell_type": "markdown",
   "metadata": {},
   "source": [
    "## 画出KY所有州所有物质每年的用量"
   ]
  },
  {
   "cell_type": "code",
   "execution_count": 274,
   "metadata": {},
   "outputs": [
    {
     "name": "stdout",
     "output_type": "stream",
     "text": [
      "120\n",
      "37\n"
     ]
    }
   ],
   "source": [
    "print(len(KY_County))\n",
    "print(len(KY_SubstanceName))"
   ]
  },
  {
   "cell_type": "markdown",
   "metadata": {},
   "source": [
    "----"
   ]
  },
  {
   "cell_type": "markdown",
   "metadata": {},
   "source": [
    "# OH州每个县各种物质用量"
   ]
  },
  {
   "cell_type": "code",
   "execution_count": 275,
   "metadata": {},
   "outputs": [
    {
     "data": {
      "text/html": [
       "<div>\n",
       "<style scoped>\n",
       "    .dataframe tbody tr th:only-of-type {\n",
       "        vertical-align: middle;\n",
       "    }\n",
       "\n",
       "    .dataframe tbody tr th {\n",
       "        vertical-align: top;\n",
       "    }\n",
       "\n",
       "    .dataframe thead th {\n",
       "        text-align: right;\n",
       "    }\n",
       "</style>\n",
       "<table border=\"1\" class=\"dataframe\">\n",
       "  <thead>\n",
       "    <tr style=\"text-align: right;\">\n",
       "      <th></th>\n",
       "      <th>YYYY</th>\n",
       "      <th>State</th>\n",
       "      <th>COUNTY</th>\n",
       "      <th>SubstanceName</th>\n",
       "      <th>DrugReports</th>\n",
       "      <th>TotalDrugReportsCounty</th>\n",
       "      <th>TotalDrugReportsState</th>\n",
       "    </tr>\n",
       "  </thead>\n",
       "  <tbody>\n",
       "    <tr>\n",
       "      <th>1</th>\n",
       "      <td>2010</td>\n",
       "      <td>OH</td>\n",
       "      <td>ADAMS</td>\n",
       "      <td>Morphine</td>\n",
       "      <td>9</td>\n",
       "      <td>527</td>\n",
       "      <td>70999</td>\n",
       "    </tr>\n",
       "    <tr>\n",
       "      <th>10</th>\n",
       "      <td>2010</td>\n",
       "      <td>OH</td>\n",
       "      <td>ASHLAND</td>\n",
       "      <td>Oxycodone</td>\n",
       "      <td>45</td>\n",
       "      <td>766</td>\n",
       "      <td>70999</td>\n",
       "    </tr>\n",
       "    <tr>\n",
       "      <th>11</th>\n",
       "      <td>2010</td>\n",
       "      <td>OH</td>\n",
       "      <td>ASHLAND</td>\n",
       "      <td>Oxymorphone</td>\n",
       "      <td>2</td>\n",
       "      <td>766</td>\n",
       "      <td>70999</td>\n",
       "    </tr>\n",
       "    <tr>\n",
       "      <th>12</th>\n",
       "      <td>2010</td>\n",
       "      <td>OH</td>\n",
       "      <td>ASHTABULA</td>\n",
       "      <td>Buprenorphine</td>\n",
       "      <td>7</td>\n",
       "      <td>571</td>\n",
       "      <td>70999</td>\n",
       "    </tr>\n",
       "    <tr>\n",
       "      <th>13</th>\n",
       "      <td>2010</td>\n",
       "      <td>OH</td>\n",
       "      <td>ASHTABULA</td>\n",
       "      <td>Hydrocodone</td>\n",
       "      <td>21</td>\n",
       "      <td>571</td>\n",
       "      <td>70999</td>\n",
       "    </tr>\n",
       "  </tbody>\n",
       "</table>\n",
       "</div>"
      ],
      "text/plain": [
       "    YYYY State     COUNTY  SubstanceName  DrugReports  TotalDrugReportsCounty  \\\n",
       "1   2010    OH      ADAMS       Morphine            9                     527   \n",
       "10  2010    OH    ASHLAND      Oxycodone           45                     766   \n",
       "11  2010    OH    ASHLAND    Oxymorphone            2                     766   \n",
       "12  2010    OH  ASHTABULA  Buprenorphine            7                     571   \n",
       "13  2010    OH  ASHTABULA    Hydrocodone           21                     571   \n",
       "\n",
       "    TotalDrugReportsState  \n",
       "1                   70999  \n",
       "10                  70999  \n",
       "11                  70999  \n",
       "12                  70999  \n",
       "13                  70999  "
      ]
     },
     "execution_count": 275,
     "metadata": {},
     "output_type": "execute_result"
    }
   ],
   "source": [
    "OH_Data = Data.loc[Data['State'] == 'OH']\n",
    "OH_Data.head()"
   ]
  },
  {
   "cell_type": "markdown",
   "metadata": {},
   "source": [
    "## 取出OH州的所有县，以及OH州的所有药物名称"
   ]
  },
  {
   "cell_type": "code",
   "execution_count": 276,
   "metadata": {},
   "outputs": [],
   "source": [
    "OH_County = set(OH_Data['COUNTY'].values)\n",
    "OH_SubstanceName = set(OH_Data['SubstanceName'].values)"
   ]
  },
  {
   "cell_type": "markdown",
   "metadata": {},
   "source": [
    "## 画出OH所有州所有物质每年的用量"
   ]
  },
  {
   "cell_type": "code",
   "execution_count": 277,
   "metadata": {},
   "outputs": [
    {
     "name": "stdout",
     "output_type": "stream",
     "text": [
      "88\n",
      "52\n"
     ]
    }
   ],
   "source": [
    "print(len(OH_County))\n",
    "print(len(OH_SubstanceName))"
   ]
  },
  {
   "cell_type": "markdown",
   "metadata": {},
   "source": [
    "-----"
   ]
  },
  {
   "cell_type": "markdown",
   "metadata": {},
   "source": [
    "# PA州每个县各种物质用量"
   ]
  },
  {
   "cell_type": "code",
   "execution_count": 278,
   "metadata": {},
   "outputs": [
    {
     "data": {
      "text/html": [
       "<div>\n",
       "<style scoped>\n",
       "    .dataframe tbody tr th:only-of-type {\n",
       "        vertical-align: middle;\n",
       "    }\n",
       "\n",
       "    .dataframe tbody tr th {\n",
       "        vertical-align: top;\n",
       "    }\n",
       "\n",
       "    .dataframe thead th {\n",
       "        text-align: right;\n",
       "    }\n",
       "</style>\n",
       "<table border=\"1\" class=\"dataframe\">\n",
       "  <thead>\n",
       "    <tr style=\"text-align: right;\">\n",
       "      <th></th>\n",
       "      <th>YYYY</th>\n",
       "      <th>State</th>\n",
       "      <th>COUNTY</th>\n",
       "      <th>SubstanceName</th>\n",
       "      <th>DrugReports</th>\n",
       "      <th>TotalDrugReportsCounty</th>\n",
       "      <th>TotalDrugReportsState</th>\n",
       "    </tr>\n",
       "  </thead>\n",
       "  <tbody>\n",
       "    <tr>\n",
       "      <th>2</th>\n",
       "      <td>2010</td>\n",
       "      <td>PA</td>\n",
       "      <td>ADAMS</td>\n",
       "      <td>Methadone</td>\n",
       "      <td>2</td>\n",
       "      <td>334</td>\n",
       "      <td>89981</td>\n",
       "    </tr>\n",
       "    <tr>\n",
       "      <th>4</th>\n",
       "      <td>2010</td>\n",
       "      <td>PA</td>\n",
       "      <td>ALLEGHENY</td>\n",
       "      <td>Hydromorphone</td>\n",
       "      <td>5</td>\n",
       "      <td>8500</td>\n",
       "      <td>89981</td>\n",
       "    </tr>\n",
       "    <tr>\n",
       "      <th>9</th>\n",
       "      <td>2010</td>\n",
       "      <td>PA</td>\n",
       "      <td>ARMSTRONG</td>\n",
       "      <td>Dextropropoxyphene</td>\n",
       "      <td>1</td>\n",
       "      <td>344</td>\n",
       "      <td>89981</td>\n",
       "    </tr>\n",
       "    <tr>\n",
       "      <th>23</th>\n",
       "      <td>2010</td>\n",
       "      <td>PA</td>\n",
       "      <td>BEDFORD</td>\n",
       "      <td>Hydrocodone</td>\n",
       "      <td>3</td>\n",
       "      <td>150</td>\n",
       "      <td>89981</td>\n",
       "    </tr>\n",
       "    <tr>\n",
       "      <th>28</th>\n",
       "      <td>2010</td>\n",
       "      <td>PA</td>\n",
       "      <td>BERKS</td>\n",
       "      <td>Morphine</td>\n",
       "      <td>5</td>\n",
       "      <td>2146</td>\n",
       "      <td>89981</td>\n",
       "    </tr>\n",
       "  </tbody>\n",
       "</table>\n",
       "</div>"
      ],
      "text/plain": [
       "    YYYY State     COUNTY       SubstanceName  DrugReports  \\\n",
       "2   2010    PA      ADAMS           Methadone            2   \n",
       "4   2010    PA  ALLEGHENY       Hydromorphone            5   \n",
       "9   2010    PA  ARMSTRONG  Dextropropoxyphene            1   \n",
       "23  2010    PA    BEDFORD         Hydrocodone            3   \n",
       "28  2010    PA      BERKS            Morphine            5   \n",
       "\n",
       "    TotalDrugReportsCounty  TotalDrugReportsState  \n",
       "2                      334                  89981  \n",
       "4                     8500                  89981  \n",
       "9                      344                  89981  \n",
       "23                     150                  89981  \n",
       "28                    2146                  89981  "
      ]
     },
     "execution_count": 278,
     "metadata": {},
     "output_type": "execute_result"
    }
   ],
   "source": [
    "PA_Data = Data.loc[Data['State'] == 'PA']\n",
    "PA_Data.head()"
   ]
  },
  {
   "cell_type": "markdown",
   "metadata": {},
   "source": [
    "## 取出PA州的所有县，以及PA州的所有药物名称"
   ]
  },
  {
   "cell_type": "code",
   "execution_count": 279,
   "metadata": {},
   "outputs": [],
   "source": [
    "PA_County = set(PA_Data['COUNTY'].values)\n",
    "PA_SubstanceName = set(PA_Data['SubstanceName'].values)"
   ]
  },
  {
   "cell_type": "markdown",
   "metadata": {},
   "source": [
    "## 画出PA所有州所有物质每年的用量"
   ]
  },
  {
   "cell_type": "code",
   "execution_count": 280,
   "metadata": {},
   "outputs": [
    {
     "name": "stdout",
     "output_type": "stream",
     "text": [
      "67\n",
      "54\n"
     ]
    }
   ],
   "source": [
    "print(len(PA_County))\n",
    "print(len(PA_SubstanceName))"
   ]
  },
  {
   "cell_type": "markdown",
   "metadata": {},
   "source": [
    "-----"
   ]
  },
  {
   "cell_type": "markdown",
   "metadata": {},
   "source": [
    "# VA州每个县各种物质用量"
   ]
  },
  {
   "cell_type": "code",
   "execution_count": 281,
   "metadata": {},
   "outputs": [
    {
     "data": {
      "text/html": [
       "<div>\n",
       "<style scoped>\n",
       "    .dataframe tbody tr th:only-of-type {\n",
       "        vertical-align: middle;\n",
       "    }\n",
       "\n",
       "    .dataframe tbody tr th {\n",
       "        vertical-align: top;\n",
       "    }\n",
       "\n",
       "    .dataframe thead th {\n",
       "        text-align: right;\n",
       "    }\n",
       "</style>\n",
       "<table border=\"1\" class=\"dataframe\">\n",
       "  <thead>\n",
       "    <tr style=\"text-align: right;\">\n",
       "      <th></th>\n",
       "      <th>YYYY</th>\n",
       "      <th>State</th>\n",
       "      <th>COUNTY</th>\n",
       "      <th>SubstanceName</th>\n",
       "      <th>DrugReports</th>\n",
       "      <th>TotalDrugReportsCounty</th>\n",
       "      <th>TotalDrugReportsState</th>\n",
       "    </tr>\n",
       "  </thead>\n",
       "  <tbody>\n",
       "    <tr>\n",
       "      <th>0</th>\n",
       "      <td>2010</td>\n",
       "      <td>VA</td>\n",
       "      <td>ACCOMACK</td>\n",
       "      <td>Propoxyphene</td>\n",
       "      <td>1</td>\n",
       "      <td>84</td>\n",
       "      <td>41462</td>\n",
       "    </tr>\n",
       "    <tr>\n",
       "      <th>3</th>\n",
       "      <td>2010</td>\n",
       "      <td>VA</td>\n",
       "      <td>ALEXANDRIA CITY</td>\n",
       "      <td>Heroin</td>\n",
       "      <td>5</td>\n",
       "      <td>427</td>\n",
       "      <td>41462</td>\n",
       "    </tr>\n",
       "    <tr>\n",
       "      <th>7</th>\n",
       "      <td>2010</td>\n",
       "      <td>VA</td>\n",
       "      <td>AMELIA</td>\n",
       "      <td>Heroin</td>\n",
       "      <td>1</td>\n",
       "      <td>94</td>\n",
       "      <td>41462</td>\n",
       "    </tr>\n",
       "    <tr>\n",
       "      <th>8</th>\n",
       "      <td>2010</td>\n",
       "      <td>VA</td>\n",
       "      <td>ARLINGTON</td>\n",
       "      <td>Heroin</td>\n",
       "      <td>41</td>\n",
       "      <td>610</td>\n",
       "      <td>41462</td>\n",
       "    </tr>\n",
       "    <tr>\n",
       "      <th>24</th>\n",
       "      <td>2010</td>\n",
       "      <td>VA</td>\n",
       "      <td>BEDFORD</td>\n",
       "      <td>Meperidine</td>\n",
       "      <td>1</td>\n",
       "      <td>177</td>\n",
       "      <td>41462</td>\n",
       "    </tr>\n",
       "  </tbody>\n",
       "</table>\n",
       "</div>"
      ],
      "text/plain": [
       "    YYYY State           COUNTY SubstanceName  DrugReports  \\\n",
       "0   2010    VA         ACCOMACK  Propoxyphene            1   \n",
       "3   2010    VA  ALEXANDRIA CITY        Heroin            5   \n",
       "7   2010    VA           AMELIA        Heroin            1   \n",
       "8   2010    VA        ARLINGTON        Heroin           41   \n",
       "24  2010    VA          BEDFORD    Meperidine            1   \n",
       "\n",
       "    TotalDrugReportsCounty  TotalDrugReportsState  \n",
       "0                       84                  41462  \n",
       "3                      427                  41462  \n",
       "7                       94                  41462  \n",
       "8                      610                  41462  \n",
       "24                     177                  41462  "
      ]
     },
     "execution_count": 281,
     "metadata": {},
     "output_type": "execute_result"
    }
   ],
   "source": [
    "VA_Data = Data.loc[Data['State'] == 'VA']\n",
    "VA_Data.head()"
   ]
  },
  {
   "cell_type": "markdown",
   "metadata": {},
   "source": [
    "## 取出VA州的所有县，以及VA州的所有药物名称"
   ]
  },
  {
   "cell_type": "code",
   "execution_count": 282,
   "metadata": {},
   "outputs": [],
   "source": [
    "VA_County = set(VA_Data['COUNTY'].values)\n",
    "VA_SubstanceName = set(VA_Data['SubstanceName'].values)"
   ]
  },
  {
   "cell_type": "markdown",
   "metadata": {},
   "source": [
    "## 画出VA所有州所有物质每年的用量"
   ]
  },
  {
   "cell_type": "code",
   "execution_count": 283,
   "metadata": {},
   "outputs": [
    {
     "name": "stdout",
     "output_type": "stream",
     "text": [
      "131\n",
      "39\n"
     ]
    }
   ],
   "source": [
    "print(len(VA_County))\n",
    "print(len(VA_SubstanceName))"
   ]
  },
  {
   "cell_type": "markdown",
   "metadata": {},
   "source": [
    "----"
   ]
  },
  {
   "cell_type": "markdown",
   "metadata": {},
   "source": [
    "# WV州每个县各种物质用量"
   ]
  },
  {
   "cell_type": "code",
   "execution_count": 284,
   "metadata": {},
   "outputs": [
    {
     "data": {
      "text/html": [
       "<div>\n",
       "<style scoped>\n",
       "    .dataframe tbody tr th:only-of-type {\n",
       "        vertical-align: middle;\n",
       "    }\n",
       "\n",
       "    .dataframe tbody tr th {\n",
       "        vertical-align: top;\n",
       "    }\n",
       "\n",
       "    .dataframe thead th {\n",
       "        text-align: right;\n",
       "    }\n",
       "</style>\n",
       "<table border=\"1\" class=\"dataframe\">\n",
       "  <thead>\n",
       "    <tr style=\"text-align: right;\">\n",
       "      <th></th>\n",
       "      <th>YYYY</th>\n",
       "      <th>State</th>\n",
       "      <th>COUNTY</th>\n",
       "      <th>SubstanceName</th>\n",
       "      <th>DrugReports</th>\n",
       "      <th>TotalDrugReportsCounty</th>\n",
       "      <th>TotalDrugReportsState</th>\n",
       "    </tr>\n",
       "  </thead>\n",
       "  <tbody>\n",
       "    <tr>\n",
       "      <th>19</th>\n",
       "      <td>2010</td>\n",
       "      <td>WV</td>\n",
       "      <td>BARBOUR</td>\n",
       "      <td>Oxycodone</td>\n",
       "      <td>1</td>\n",
       "      <td>16</td>\n",
       "      <td>8668</td>\n",
       "    </tr>\n",
       "    <tr>\n",
       "      <th>27</th>\n",
       "      <td>2010</td>\n",
       "      <td>WV</td>\n",
       "      <td>BERKELEY</td>\n",
       "      <td>Hydrocodone</td>\n",
       "      <td>6</td>\n",
       "      <td>722</td>\n",
       "      <td>8668</td>\n",
       "    </tr>\n",
       "    <tr>\n",
       "      <th>31</th>\n",
       "      <td>2010</td>\n",
       "      <td>WV</td>\n",
       "      <td>BOONE</td>\n",
       "      <td>Fentanyl</td>\n",
       "      <td>1</td>\n",
       "      <td>90</td>\n",
       "      <td>8668</td>\n",
       "    </tr>\n",
       "    <tr>\n",
       "      <th>33</th>\n",
       "      <td>2010</td>\n",
       "      <td>WV</td>\n",
       "      <td>BRAXTON</td>\n",
       "      <td>Hydrocodone</td>\n",
       "      <td>35</td>\n",
       "      <td>167</td>\n",
       "      <td>8668</td>\n",
       "    </tr>\n",
       "    <tr>\n",
       "      <th>47</th>\n",
       "      <td>2010</td>\n",
       "      <td>WV</td>\n",
       "      <td>CABELL</td>\n",
       "      <td>Oxycodone</td>\n",
       "      <td>116</td>\n",
       "      <td>517</td>\n",
       "      <td>8668</td>\n",
       "    </tr>\n",
       "  </tbody>\n",
       "</table>\n",
       "</div>"
      ],
      "text/plain": [
       "    YYYY State    COUNTY SubstanceName  DrugReports  TotalDrugReportsCounty  \\\n",
       "19  2010    WV   BARBOUR     Oxycodone            1                      16   \n",
       "27  2010    WV  BERKELEY   Hydrocodone            6                     722   \n",
       "31  2010    WV     BOONE      Fentanyl            1                      90   \n",
       "33  2010    WV   BRAXTON   Hydrocodone           35                     167   \n",
       "47  2010    WV    CABELL     Oxycodone          116                     517   \n",
       "\n",
       "    TotalDrugReportsState  \n",
       "19                   8668  \n",
       "27                   8668  \n",
       "31                   8668  \n",
       "33                   8668  \n",
       "47                   8668  "
      ]
     },
     "execution_count": 284,
     "metadata": {},
     "output_type": "execute_result"
    }
   ],
   "source": [
    "WV_Data = Data.loc[Data['State'] == 'WV']\n",
    "WV_Data.head()"
   ]
  },
  {
   "cell_type": "markdown",
   "metadata": {},
   "source": [
    "## 取出WV州的所有县，以及WV州的所有药物名称"
   ]
  },
  {
   "cell_type": "code",
   "execution_count": 364,
   "metadata": {},
   "outputs": [],
   "source": [
    "WV_County = set(WV_Data['COUNTY'].values)\n",
    "WV_SubstanceName = set(WV_Data['SubstanceName'].values)"
   ]
  },
  {
   "cell_type": "markdown",
   "metadata": {},
   "source": [
    "## 画出VA所有州所有物质每年的用量"
   ]
  },
  {
   "cell_type": "code",
   "execution_count": 286,
   "metadata": {},
   "outputs": [
    {
     "name": "stdout",
     "output_type": "stream",
     "text": [
      "55\n",
      "36\n"
     ]
    }
   ],
   "source": [
    "print(len(WV_County))\n",
    "print(len(WV_SubstanceName))"
   ]
  },
  {
   "cell_type": "markdown",
   "metadata": {},
   "source": [
    "-----"
   ]
  },
  {
   "cell_type": "markdown",
   "metadata": {},
   "source": [
    "## 取出所有县"
   ]
  },
  {
   "cell_type": "code",
   "execution_count": 374,
   "metadata": {},
   "outputs": [],
   "source": [
    "County = list(KY_County) + list(OH_County) + list(PA_County) + list(VA_County) + list(WV_County)"
   ]
  },
  {
   "cell_type": "code",
   "execution_count": null,
   "metadata": {},
   "outputs": [],
   "source": [
    "KY_SUM = 0\n",
    "KY_NUM = 0\n",
    "for i in range(len(Data)):\n",
    "    for j in list(KY_County):\n",
    "        if Data.iloc[i]['COUNTY'] == j:\n",
    "            KY_SUM += Data.iloc[i]['DrugReports']\n",
    "            KY_NUM += 1"
   ]
  },
  {
   "cell_type": "code",
   "execution_count": 408,
   "metadata": {},
   "outputs": [
    {
     "data": {
      "text/plain": [
       "24062"
      ]
     },
     "execution_count": 408,
     "metadata": {},
     "output_type": "execute_result"
    }
   ],
   "source": [
    "len(Data)"
   ]
  },
  {
   "cell_type": "code",
   "execution_count": 287,
   "metadata": {},
   "outputs": [],
   "source": [
    "Synthetic = pd.read_excel(\"Data/合成类.xlsx\")\n",
    "Synthetic = Synthetic.loc[Synthetic['是否合成'] == '是']\n",
    "Synthetic = list(Synthetic['SubstanceName'].values)"
   ]
  },
  {
   "cell_type": "code",
   "execution_count": 333,
   "metadata": {},
   "outputs": [
    {
     "name": "stdout",
     "output_type": "stream",
     "text": [
      "['Desmethylprodine ', 'Buprenorphine', 'Pethidine', 'Methorphan', 'Carfentanil', 'Butyryl fentanyl', 'Fentanyl', 'Methadone', 'Mitragynine', 'Pentazocine', 'U-47700']\n",
      "['Desmethylprodine ', 'Butorphanol', 'Buprenorphine', 'Pethidine', 'Methorphan', 'Carfentanil', '3-Methylfentanyl', 'Dextropropoxyphene', 'Butyryl fentanyl', 'Fentanyl', 'Methadone', 'p-Fluorofentanyl', 'Mitragynine', 'Pentazocine', 'U-47700']\n",
      "['Metazocine', 'Buprenorphine', 'Pethidine', 'Methorphan', 'Acetylcodeine', 'Butorphanol', 'Carfentanil', '3-Methylfentanyl', 'Dextropropoxyphene', 'Remifentanil', 'Butyryl fentanyl', 'Fentanyl', 'Methadone', 'Mitragynine', 'Levorphanol', 'MT-45', 'Pentazocine', 'U-47700']\n",
      "['Desmethylprodine ', 'Butorphanol', 'Buprenorphine', 'Pethidine', 'Methorphan', 'Acetylcodeine', 'Carfentanil', '3-Methylfentanyl', 'Butyryl fentanyl', 'Fentanyl', 'Methadone', 'Mitragynine', 'Pentazocine', 'U-47700']\n",
      "['Buprenorphine', 'Methorphan', 'Acetylcodeine', 'Carfentanil', '3-Methylfentanyl', 'Dextropropoxyphene', 'Butyryl fentanyl', 'Fentanyl', 'Methadone', 'p-Fluorofentanyl', 'Mitragynine', 'Pentazocine', 'U-47700']\n"
     ]
    }
   ],
   "source": [
    "KY_Synthetic = list(set(Synthetic).intersection(set(KY_SubstanceName)))\n",
    "print(KY_Synthetic)\n",
    "OH_Synthetic = list(set(Synthetic).intersection(set(OH_SubstanceName)))\n",
    "print(OH_Synthetic)\n",
    "PA_Synthetic = list(set(Synthetic).intersection(set(PA_SubstanceName)))\n",
    "print(PA_Synthetic)\n",
    "VA_Synthetic = list(set(Synthetic).intersection(set(VA_SubstanceName)))\n",
    "print(VA_Synthetic)\n",
    "WV_Synthetic = list(set(Synthetic).intersection(set(WV_SubstanceName)))\n",
    "print(WV_Synthetic)"
   ]
  },
  {
   "cell_type": "code",
   "execution_count": 356,
   "metadata": {},
   "outputs": [
    {
     "data": {
      "text/plain": [
       "YYYY                           2010\n",
       "State                            KY\n",
       "COUNTY                        ALLEN\n",
       "SubstanceName             Oxycodone\n",
       "DrugReports                      15\n",
       "TotalDrugReportsCounty          168\n",
       "TotalDrugReportsState         29588\n",
       "Name: 5, dtype: object"
      ]
     },
     "execution_count": 356,
     "metadata": {},
     "output_type": "execute_result"
    }
   ],
   "source": [
    "KY_SUM = 0\n",
    "#for i in range(len(KY_Data)):\n",
    "#    if KY_Data.iloc[i]['SubstanceName'] in KY_Synthetic:\n",
    "#        KY_SUM += \n",
    "KY_Data.iloc[0]"
   ]
  },
  {
   "cell_type": "code",
   "execution_count": 209,
   "metadata": {},
   "outputs": [
    {
     "data": {
      "text/plain": [
       "<BarContainer object of 483 artists>"
      ]
     },
     "execution_count": 209,
     "metadata": {},
     "output_type": "execute_result"
    },
    {
     "data": {
      "image/png": "[encoded data removed]",
      "text/plain": [
       "<Figure size 432x288 with 1 Axes>"
      ]
     },
     "metadata": {},
     "output_type": "display_data"
    }
   ],
   "source": [
    "PA_Buprenorphine = Buprenorphine.loc[Buprenorphine['State'] == 'PA']\n",
    "plt.bar(PA_Buprenorphine['YYYY'],PA_Buprenorphine['TotalDrugReportsCounty'])"
   ]
  },
  {
   "cell_type": "code",
   "execution_count": 150,
   "metadata": {},
   "outputs": [
    {
     "data": {
      "text/plain": [
       "<BarContainer object of 569 artists>"
      ]
     },
     "execution_count": 150,
     "metadata": {},
     "output_type": "execute_result"
    },
    {
     "data": {
      "image/png": "[encoded data removed]",
      "text/plain": [
       "<Figure size 432x288 with 1 Axes>"
      ]
     },
     "metadata": {},
     "output_type": "display_data"
    }
   ],
   "source": [
    "KY_Heroin_Data = Heroin_Data.loc[Heroin_Data['State'] == 'KY']\n",
    "plt.bar(KY_Heroin_Data['YYYY'],KY_Heroin_Data['TotalDrugReportsState'])"
   ]
  },
  {
   "cell_type": "code",
   "execution_count": 151,
   "metadata": {},
   "outputs": [
    {
     "data": {
      "text/plain": [
       "<BarContainer object of 682 artists>"
      ]
     },
     "execution_count": 151,
     "metadata": {},
     "output_type": "execute_result"
    },
    {
     "data": {
      "image/png": "[encoded data removed]",
      "text/plain": [
       "<Figure size 432x288 with 1 Axes>"
      ]
     },
     "metadata": {},
     "output_type": "display_data"
    }
   ],
   "source": [
    "OH_Heroin_Data = Heroin_Data.loc[Heroin_Data['State'] == 'OH']\n",
    "plt.bar(OH_Heroin_Data['YYYY'],OH_Heroin_Data['TotalDrugReportsState'])"
   ]
  },
  {
   "cell_type": "code",
   "execution_count": 152,
   "metadata": {},
   "outputs": [
    {
     "data": {
      "text/plain": [
       "<BarContainer object of 716 artists>"
      ]
     },
     "execution_count": 152,
     "metadata": {},
     "output_type": "execute_result"
    },
    {
     "data": {
      "image/png": "[encoded data removed]",
      "text/plain": [
       "<Figure size 432x288 with 1 Axes>"
      ]
     },
     "metadata": {},
     "output_type": "display_data"
    }
   ],
   "source": [
    "VA_Heroin_Data = Heroin_Data.loc[Heroin_Data['State'] == 'VA']\n",
    "plt.bar(VA_Heroin_Data['YYYY'],VA_Heroin_Data['TotalDrugReportsState'])"
   ]
  },
  {
   "cell_type": "code",
   "execution_count": 153,
   "metadata": {},
   "outputs": [
    {
     "data": {
      "text/plain": [
       "<BarContainer object of 244 artists>"
      ]
     },
     "execution_count": 153,
     "metadata": {},
     "output_type": "execute_result"
    },
    {
     "data": {
      "image/png": "[encoded data removed]",
      "text/plain": [
       "<Figure size 432x288 with 1 Axes>"
      ]
     },
     "metadata": {},
     "output_type": "display_data"
    }
   ],
   "source": [
    "WV_Heroin_Data = Heroin_Data.loc[Heroin_Data['State'] == 'WV']\n",
    "plt.bar(WV_Heroin_Data['YYYY'],WV_Heroin_Data['TotalDrugReportsState'])"
   ]
  },
  {
   "cell_type": "markdown",
   "metadata": {},
   "source": [
    "----"
   ]
  },
  {
   "cell_type": "markdown",
   "metadata": {},
   "source": [
    "# 五个州每年Buprenorphine的用量"
   ]
  },
  {
   "cell_type": "code",
   "execution_count": 154,
   "metadata": {},
   "outputs": [
    {
     "data": {
      "text/plain": [
       "<BarContainer object of 483 artists>"
      ]
     },
     "execution_count": 154,
     "metadata": {},
     "output_type": "execute_result"
    },
    {
     "data": {
      "image/png": "[encoded data removed]",
      "text/plain": [
       "<Figure size 432x288 with 1 Axes>"
      ]
     },
     "metadata": {},
     "output_type": "display_data"
    }
   ],
   "source": [
    "Buprenorphine = pd.read_excel(\"Data/Buprenorphine.xlsx\")\n",
    "#Heroin_Data\n"
   ]
  },
  {
   "cell_type": "code",
   "execution_count": 156,
   "metadata": {},
   "outputs": [
    {
     "data": {
      "text/plain": [
       "<BarContainer object of 642 artists>"
      ]
     },
     "execution_count": 156,
     "metadata": {},
     "output_type": "execute_result"
    },
    {
     "data": {
      "image/png": "[encoded data removed]",
      "text/plain": [
       "<Figure size 432x288 with 1 Axes>"
      ]
     },
     "metadata": {},
     "output_type": "display_data"
    }
   ],
   "source": [
    "Buprenorphine = Buprenorphine.loc[Buprenorphine['State'] == 'KY']\n",
    "plt.bar(Buprenorphine['YYYY'],Buprenorphine['TotalDrugReportsState'])"
   ]
  },
  {
   "cell_type": "code",
   "execution_count": 157,
   "metadata": {},
   "outputs": [
    {
     "data": {
      "text/plain": [
       "<BarContainer object of 607 artists>"
      ]
     },
     "execution_count": 157,
     "metadata": {},
     "output_type": "execute_result"
    },
    {
     "data": {
      "image/png": "[encoded data removed]",
      "text/plain": [
       "<Figure size 432x288 with 1 Axes>"
      ]
     },
     "metadata": {},
     "output_type": "display_data"
    }
   ],
   "source": [
    "Buprenorphine = pd.read_excel(\"Data/Buprenorphine.xlsx\")\n",
    "#Heroin_Data\n",
    "Buprenorphine = Buprenorphine.loc[Buprenorphine['State'] == 'OH']\n",
    "plt.bar(Buprenorphine['YYYY'],Buprenorphine['TotalDrugReportsState'])"
   ]
  },
  {
   "cell_type": "code",
   "execution_count": 158,
   "metadata": {},
   "outputs": [
    {
     "data": {
      "text/plain": [
       "<BarContainer object of 558 artists>"
      ]
     },
     "execution_count": 158,
     "metadata": {},
     "output_type": "execute_result"
    },
    {
     "data": {
      "image/png": "[encoded data removed]",
      "text/plain": [
       "<Figure size 432x288 with 1 Axes>"
      ]
     },
     "metadata": {},
     "output_type": "display_data"
    }
   ],
   "source": [
    "Buprenorphine = pd.read_excel(\"Data/Buprenorphine.xlsx\")\n",
    "#Heroin_Data\n",
    "Buprenorphine = Buprenorphine.loc[Buprenorphine['State'] == 'VA']\n",
    "plt.bar(Buprenorphine['YYYY'],Buprenorphine['TotalDrugReportsState'])"
   ]
  },
  {
   "cell_type": "code",
   "execution_count": 159,
   "metadata": {},
   "outputs": [
    {
     "data": {
      "text/plain": [
       "<BarContainer object of 234 artists>"
      ]
     },
     "execution_count": 159,
     "metadata": {},
     "output_type": "execute_result"
    },
    {
     "data": {
      "image/png": "[encoded data removed]",
      "text/plain": [
       "<Figure size 432x288 with 1 Axes>"
      ]
     },
     "metadata": {},
     "output_type": "display_data"
    }
   ],
   "source": [
    "Buprenorphine = pd.read_excel(\"Data/Buprenorphine.xlsx\")\n",
    "#Heroin_Data\n",
    "Buprenorphine = Buprenorphine.loc[Buprenorphine['State'] == 'WV']\n",
    "plt.bar(Buprenorphine['YYYY'],Buprenorphine['TotalDrugReportsState'])"
   ]
  }
 ],
 "metadata": {
  "kernelspec": {
   "display_name": "Python 3",
   "language": "python",
   "name": "python3"
  },
  "language_info": {
   "codemirror_mode": {
    "name": "ipython",
    "version": 3
   },
   "file_extension": ".py",
   "mimetype": "text/x-python",
   "name": "python",
   "nbconvert_exporter": "python",
   "pygments_lexer": "ipython3",
   "version": "3.6.5"
  }
 },
 "nbformat": 4,
 "nbformat_minor": 2
}
